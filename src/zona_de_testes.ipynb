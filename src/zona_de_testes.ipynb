{
 "cells": [
  {
   "cell_type": "code",
   "execution_count": 1,
   "metadata": {},
   "outputs": [],
   "source": [
    "import tools as tl\n",
    "from selenium.webdriver.support.select import Select\n",
    "import requests\n",
    "import pandas as pd\n",
    "import configparser\n",
    "import matplotlib.pyplot as plt\n",
    "import datetime"
   ]
  },
  {
   "cell_type": "code",
   "execution_count": 2,
   "metadata": {},
   "outputs": [],
   "source": [
    "def get_config_data(**kwargs):\n",
    "    \"\"\"\n",
    "    This function reads a configuration file and returns the value of a specified field.\n",
    "    \n",
    "    :param path: The path to the configuration file that needs to be read\n",
    "    :return: the data from the specified field and value in the configuration file located at the\n",
    "    specified path.\n",
    "    \"\"\"\n",
    "    #Abrindo o arquivo de configurações\n",
    "    arq = configparser.RawConfigParser()\n",
    "    arq.read(r'C:\\Users\\vitor\\OneDrive\\Documentos\\Python Scripts\\abreu_network_robot\\config.txt')\n",
    "\n",
    "    #Pegando os dados do arquivo\n",
    "    data = arq.get(kwargs['field'], kwargs['value'])\n",
    "\n",
    "    return data\n"
   ]
  },
  {
   "cell_type": "code",
   "execution_count": 3,
   "metadata": {},
   "outputs": [],
   "source": [
    "# Função para substituir os emails pelo nome do cliente\n",
    "def replace_emails_with_names(email, customer_dict):\n",
    "    \n",
    "    for name, emails in customer_dict.items():\n",
    "        if (email.lower() in [em.lower() for em in emails]):\n",
    "            return name\n",
    "    return email"
   ]
  },
  {
   "cell_type": "code",
   "execution_count": 4,
   "metadata": {},
   "outputs": [],
   "source": [
    "def create_customer_dict(customers_list, df_all):\n",
    "    customer_dict = {}\n",
    "\n",
    "    for customer in customers_list: \n",
    "        df_filt = df_all.loc[df_all['To'].str.contains(customer)]\n",
    "        customer_dict[customer] = df_filt['To'].value_counts().index.to_list()\n",
    "        #df_filt.to_excel(f'{OUTPUT_PATH}\\{customer}.xlsx', index=False)\n",
    "    \n",
    "    return customer_dict"
   ]
  },
  {
   "cell_type": "code",
   "execution_count": 5,
   "metadata": {},
   "outputs": [],
   "source": [
    "def replace_custom_names(customer_names):\n",
    "    diff_custom = {\n",
    "        'aguia':'aguiasecuritizadora',\n",
    "        'bombinhassummer':'bombinhassummerbeach', \n",
    "        'dutoclean': 'dutocleanbauru',\n",
    "        'fabricenter': 'fabricenter470',\n",
    "        'fazcomunicacao': 'fazcomunicacaovisual',\n",
    "        'galli': 'galliatacadista',\n",
    "        'impacto': 'impactoesports',\n",
    "        'jcleletronica': 'jcleletronicaindustrial',\n",
    "        'mailinspector': 'filter.mailinspector',\n",
    "        'plantfort': 'plantfortfertil',\n",
    "        'primedigital': 'primemidiadigital',\n",
    "        'quinta': 'quintadonino',\n",
    "        'raysolar': 'raysolarbrasil',\n",
    "        'reset': 'resetmairinque',\n",
    "        'revar': 'revarcondicionado',\n",
    "        'rodoflex': 'rodoflexpneus',\n",
    "        'sany': 'sanydobrasil',\n",
    "        'supernagai': 'supermercadosnagai',\n",
    "        'agrotecagro': 'agrotecagroquimica',\n",
    "        'barulhinhobomchips': 'barulhinhobom',\n",
    "        'marcospaulo': 'marcospauloimoveis',\n",
    "        'cortedobra': 'cortedobraseguranca',\n",
    "        'ortobaby': 'ortobabycalcados',\n",
    "        'arinteli': 'arinteligenciatributaria',\n",
    "    }   \n",
    "\n",
    "    for diff_name in diff_custom.keys():\n",
    "        list_index = customer_names.index(diff_name)\n",
    "        customer_names[list_index] = diff_custom[diff_name]\n",
    "    \n",
    "    return customer_names"
   ]
  },
  {
   "cell_type": "code",
   "execution_count": 6,
   "metadata": {},
   "outputs": [],
   "source": [
    "diff_custom = {\n",
    "    'aguia':'aguiasecuritizadora',\n",
    "    'bombinhassummer':'bombinhassummerbeach', \n",
    "    'dutoclean': 'dutocleanbauru',\n",
    "    'fabricenter': 'fabricenter470',\n",
    "    'fazcomunicacao': 'fazcomunicacaovisual',\n",
    "    'galli': 'galliatacadista',\n",
    "    'impacto': 'impactoesports',\n",
    "    'jcleletronica': 'jcleletronicaindustrial',\n",
    "    'mailinspector': 'filter.mailinspector',\n",
    "    'plantfort': 'plantfortfertil',\n",
    "    'primedigital': 'primemidiadigital',\n",
    "    'quinta': 'quintadonino',\n",
    "    'raysolar': 'raysolarbrasil',\n",
    "    'reset': 'resetmairinque',\n",
    "    'revar': 'revarcondicionado',\n",
    "    'rodoflex': 'rodoflexpneus',\n",
    "    'sany': 'sanydobrasil',\n",
    "    'supernagai': 'supermercadosnagai',\n",
    "    'agrotecagro': 'agrotecagroquimica',\n",
    "    'barulhinhobomchips': 'barulhinhobom',\n",
    "    'marcospaulo': 'marcospauloimoveis',\n",
    "    'cortedobra': 'cortedobraseguranca',\n",
    "    'ortobaby': 'ortobabycalcados',\n",
    "    'arinteli': 'arinteligenciatributaria',\n",
    "    \n",
    "}\n"
   ]
  },
  {
   "cell_type": "code",
   "execution_count": 7,
   "metadata": {},
   "outputs": [],
   "source": [
    "def get_config_data(path, **kwargs):\n",
    "    \n",
    "    #Abrindo o arquivo de configurações\n",
    "    arq = configparser.RawConfigParser()\n",
    "    arq.read(path)\n",
    "    \n",
    "    #Pegando os dados do arquivo\n",
    "    data = arq.get(kwargs['field'], kwargs['value'])\n",
    "    \n",
    "    return data"
   ]
  },
  {
   "cell_type": "code",
   "execution_count": 8,
   "metadata": {},
   "outputs": [],
   "source": [
    "def replace_numeric_chars(string):\n",
    "    replacements = {'0': 'o', '1': 'i', '3': 'e', '4': 'a', '5': 's', '7': 't', '8': 'b'}\n",
    "    for char, replacement in replacements.items():\n",
    "        if string not in ['5stintas','c3']:\n",
    "            string = string.replace(char, replacement)\n",
    "    return string"
   ]
  },
  {
   "cell_type": "code",
   "execution_count": 9,
   "metadata": {},
   "outputs": [],
   "source": [
    "def format_date_api():\n",
    "    \"\"\"\n",
    "    This Python function formats the current date and the next day's date in a specific\n",
    "    format for use\n",
    "    in an API.\n",
    "    :return: a tuple with two strings: the current date formatted as \"mm/dd/yyyy\" and the next day's\n",
    "    date formatted as \"mm/dd/yyyy\", both with the forward slash replaced by \"-\".\n",
    "    \"\"\"\n",
    "\n",
    "    # Obtém a data atual\n",
    "    data_atual = datetime.date.today()\n",
    "    data_atual_formatada = data_atual.strftime(\"%m-%d-%Y\")\n",
    "    data_atual_formatada = data_atual_formatada.replace('-', '%2F')\n",
    "\n",
    "    # Adiciona um dia\n",
    "    data_nova = data_atual + datetime.timedelta(days=1)\n",
    "    data_nova_formatada = data_nova.strftime(\"%m-%d-%Y\")\n",
    "    data_nova_formatada = data_nova_formatada.replace('-', '%2F')\n",
    "    return data_atual_formatada, data_nova_formatada\n"
   ]
  },
  {
   "cell_type": "code",
   "execution_count": 10,
   "metadata": {},
   "outputs": [],
   "source": [
    "URL = 'https://filter.mailinspector.com.br/login/index.php'\n",
    "API_URL = 'https://filter.mailinspector.com.br/login/mailLogViewer.php'\n",
    "OUTPUT_PATH = r'C:\\Users\\vitor\\OneDrive\\Documentos\\Python Scripts\\abreu_network_robot\\files'\n",
    "user ='admin'\n",
    "senha = 'N6wq@Ks72'"
   ]
  },
  {
   "cell_type": "code",
   "execution_count": 11,
   "metadata": {},
   "outputs": [
    {
     "name": "stdout",
     "output_type": "stream",
     "text": [
      "Limpando arquivos gerais\n",
      "log_view.csv removido com sucesso.\n",
      "log_view.txt removido com sucesso.\n"
     ]
    }
   ],
   "source": [
    "tl.clean_dir(OUTPUT_PATH)"
   ]
  },
  {
   "attachments": {},
   "cell_type": "markdown",
   "metadata": {},
   "source": [
    "### 1 Etapa\n",
    "\n",
    "- Acessar o portal\n",
    "- Salvar a lista de clientes \n",
    "- Salvar os cookies para passar na API"
   ]
  },
  {
   "cell_type": "code",
   "execution_count": 12,
   "metadata": {},
   "outputs": [],
   "source": [
    "driver = tl.create_driver(headless=False)\n",
    "driver.get(URL)"
   ]
  },
  {
   "cell_type": "code",
   "execution_count": 13,
   "metadata": {},
   "outputs": [
    {
     "name": "stdout",
     "output_type": "stream",
     "text": [
      ">>>Sucesso clicando em login>>>\n",
      ">>>Sucesso passando o user>>>\n",
      ">>>Sucesso clicando em senha>>>\n",
      ">>>Sucesso passando a senha>>>\n",
      ">>>Sucesso clicando no botao login>>>\n"
     ]
    }
   ],
   "source": [
    "tl.clicking(element='clicando em login', path='email', by='name', driver=driver).click()\n",
    "tl.clicking(element='passando o user', path='email', by='name', driver=driver).send_keys(user)\n",
    "\n",
    "tl.clicking(element='clicando em senha', path='password', by='name', driver=driver).click()\n",
    "tl.clicking(element='passando a senha', path='password', by='name', driver=driver).send_keys(senha)\n",
    "\n",
    "tl.clicking(element='clicando no botao login', path=\"//input[@type='submit']\", driver=driver).click()"
   ]
  },
  {
   "cell_type": "code",
   "execution_count": 14,
   "metadata": {},
   "outputs": [
    {
     "name": "stdout",
     "output_type": "stream",
     "text": [
      ">>>Sucesso Selecionando Linked Accounts>>>\n"
     ]
    }
   ],
   "source": [
    "tl.clicking(element='Selecionando Linked Accounts', path=\"//*[text()='Linked Accounts']\", driver=driver).click() "
   ]
  },
  {
   "cell_type": "code",
   "execution_count": 15,
   "metadata": {},
   "outputs": [
    {
     "name": "stdout",
     "output_type": "stream",
     "text": [
      ">>>Sucesso selecionando o selector com todos os clientes>>>\n"
     ]
    }
   ],
   "source": [
    "drop_down = tl.clicking(element='selecionando o selector com todos os clientes', path='hijackName', by='name', driver=driver)\n",
    "drop_down_obj = Select(drop_down)"
   ]
  },
  {
   "cell_type": "code",
   "execution_count": 16,
   "metadata": {},
   "outputs": [],
   "source": [
    "customers_list = [opt.text for opt in drop_down_obj.options]\n",
    "customers_list.pop(0)\n",
    "customers_list = [em.lower() for em in customers_list]\n",
    "customers_list = list(map(lambda char: replace_numeric_chars(char), customers_list))\n",
    "customers_list = replace_custom_names(customers_list)"
   ]
  },
  {
   "cell_type": "code",
   "execution_count": 17,
   "metadata": {},
   "outputs": [],
   "source": [
    "cookies = tl.get_cookies(driver)"
   ]
  },
  {
   "cell_type": "code",
   "execution_count": 18,
   "metadata": {},
   "outputs": [],
   "source": [
    "driver.quit()"
   ]
  },
  {
   "attachments": {},
   "cell_type": "markdown",
   "metadata": {},
   "source": [
    "### 2 Etapa\n",
    "- Configurar os paramentros da API\n",
    "- Acessar os reports dos clientes via API\n",
    "- salvar como arquivo csv para facilitar a modelagem"
   ]
  },
  {
   "cell_type": "code",
   "execution_count": 19,
   "metadata": {},
   "outputs": [],
   "source": [
    "headersList = {\n",
    " \"Cookie\": f\"PHPSESSID={cookies['PHPSESSID']}; lang=pt_BR\",\n",
    " \"Referer\": \"https://filter.mailinspector.com.br/login/mailLogViewer.php\", \n",
    "}\n",
    "\n",
    "#formatando as datas para passar na API\n",
    "dia_atual, proximo_dia = format_date_api()\n",
    "\n",
    "#Requisição na api para baixar os dados dos clientes\n",
    "response = requests.get(API_URL+f'?from={dia_atual}&to={proximo_dia}&page=-1',\n",
    "                        headers=headersList,\n",
    "                        timeout=100)\n",
    "\n",
    "result = response.text"
   ]
  },
  {
   "cell_type": "code",
   "execution_count": 20,
   "metadata": {},
   "outputs": [],
   "source": [
    "with open(f'{OUTPUT_PATH}\\log_view.txt', 'w') as f:\n",
    "    f.write(result)"
   ]
  },
  {
   "cell_type": "code",
   "execution_count": 21,
   "metadata": {},
   "outputs": [
    {
     "data": {
      "text/html": [
       "<div>\n",
       "<style scoped>\n",
       "    .dataframe tbody tr th:only-of-type {\n",
       "        vertical-align: middle;\n",
       "    }\n",
       "\n",
       "    .dataframe tbody tr th {\n",
       "        vertical-align: top;\n",
       "    }\n",
       "\n",
       "    .dataframe thead th {\n",
       "        text-align: right;\n",
       "    }\n",
       "</style>\n",
       "<table border=\"1\" class=\"dataframe\">\n",
       "  <thead>\n",
       "    <tr style=\"text-align: right;\">\n",
       "      <th></th>\n",
       "      <th>Date</th>\n",
       "      <th>From</th>\n",
       "      <th>To</th>\n",
       "      <th>Subject</th>\n",
       "      <th>Action</th>\n",
       "      <th>Score</th>\n",
       "      <th>Source IP</th>\n",
       "    </tr>\n",
       "  </thead>\n",
       "  <tbody>\n",
       "    <tr>\n",
       "      <th>0</th>\n",
       "      <td>2023-06-28 22:52:52</td>\n",
       "      <td>qarecebnfefiat@nfe.fgbr</td>\n",
       "      <td>nfe@breitkopf.com.br</td>\n",
       "      <td>NaN</td>\n",
       "      <td>Rejected</td>\n",
       "      <td>NaN</td>\n",
       "      <td>187.0.250.144</td>\n",
       "    </tr>\n",
       "    <tr>\n",
       "      <th>1</th>\n",
       "      <td>2023-06-28 22:52:52</td>\n",
       "      <td>qarecebnfefiat@nfe.fgbr</td>\n",
       "      <td>nfe@breitkopf.com.br</td>\n",
       "      <td>NaN</td>\n",
       "      <td>Rejected</td>\n",
       "      <td>NaN</td>\n",
       "      <td>187.0.250.144</td>\n",
       "    </tr>\n",
       "    <tr>\n",
       "      <th>2</th>\n",
       "      <td>2023-06-28 22:52:52</td>\n",
       "      <td>bounces+6102634-2596-societario02=ccop.com.br@...</td>\n",
       "      <td>societario02@ccop.com.br</td>\n",
       "      <td>NaN</td>\n",
       "      <td>Rejected</td>\n",
       "      <td>NaN</td>\n",
       "      <td>167.89.107.163</td>\n",
       "    </tr>\n",
       "    <tr>\n",
       "      <th>3</th>\n",
       "      <td>2023-06-28 22:52:50</td>\n",
       "      <td>contadigital6366@vivo.com.br</td>\n",
       "      <td>locacoes@fladafi.com.br</td>\n",
       "      <td>NaN</td>\n",
       "      <td>Blacklisted</td>\n",
       "      <td>NaN</td>\n",
       "      <td>191.240.2.103</td>\n",
       "    </tr>\n",
       "    <tr>\n",
       "      <th>4</th>\n",
       "      <td>2023-06-28 22:52:47</td>\n",
       "      <td>qarecebnfefiat@nfe.fgbr</td>\n",
       "      <td>nfe@breitkopf.com.br</td>\n",
       "      <td>NaN</td>\n",
       "      <td>Rejected</td>\n",
       "      <td>NaN</td>\n",
       "      <td>187.0.250.144</td>\n",
       "    </tr>\n",
       "  </tbody>\n",
       "</table>\n",
       "</div>"
      ],
      "text/plain": [
       "                  Date                                               From   \n",
       "0  2023-06-28 22:52:52                            qarecebnfefiat@nfe.fgbr  \\\n",
       "1  2023-06-28 22:52:52                            qarecebnfefiat@nfe.fgbr   \n",
       "2  2023-06-28 22:52:52  bounces+6102634-2596-societario02=ccop.com.br@...   \n",
       "3  2023-06-28 22:52:50                       contadigital6366@vivo.com.br   \n",
       "4  2023-06-28 22:52:47                            qarecebnfefiat@nfe.fgbr   \n",
       "\n",
       "                         To Subject       Action  Score       Source IP  \n",
       "0      nfe@breitkopf.com.br     NaN     Rejected    NaN   187.0.250.144  \n",
       "1      nfe@breitkopf.com.br     NaN     Rejected    NaN   187.0.250.144  \n",
       "2  societario02@ccop.com.br     NaN     Rejected    NaN  167.89.107.163  \n",
       "3   locacoes@fladafi.com.br     NaN  Blacklisted    NaN   191.240.2.103  \n",
       "4      nfe@breitkopf.com.br     NaN     Rejected    NaN   187.0.250.144  "
      ]
     },
     "execution_count": 21,
     "metadata": {},
     "output_type": "execute_result"
    }
   ],
   "source": [
    "df = pd.read_csv(f'{OUTPUT_PATH}\\log_view.txt')\n",
    "df.to_csv(f'{OUTPUT_PATH}\\original.csv', index=False, sep=',')\n",
    "df.head()"
   ]
  },
  {
   "attachments": {},
   "cell_type": "markdown",
   "metadata": {},
   "source": [
    "### 4 Etapa\n",
    "- Organizar o arquivo extraido da API\n",
    "- Alterar a coluna 'To' que são os emails, para os nomes dos clientes"
   ]
  },
  {
   "cell_type": "code",
   "execution_count": 22,
   "metadata": {},
   "outputs": [],
   "source": [
    "customer_dict = {}\n",
    "for customer in customers_list:\n",
    "    customer_dict[customer] = [email for email in df['To'] if (email.endswith('@'+customer.lower()+'.com.br')) or (email.endswith('@'+customer.lower()+'.com'))]"
   ]
  },
  {
   "cell_type": "code",
   "execution_count": 23,
   "metadata": {},
   "outputs": [],
   "source": [
    "#customer_dict = create_customer_dict(customers_list, df)\n",
    "df_customer = pd.DataFrame({\"Cliente\":list(customer_dict.keys()),\n",
    "                            \"Emails\":list(customer_dict.values())})\n",
    "\n",
    "df_customer.to_excel(f'{OUTPUT_PATH}\\customers_emails.xlsx', index=False)"
   ]
  },
  {
   "cell_type": "code",
   "execution_count": 24,
   "metadata": {},
   "outputs": [
    {
     "data": {
      "text/html": [
       "<div>\n",
       "<style scoped>\n",
       "    .dataframe tbody tr th:only-of-type {\n",
       "        vertical-align: middle;\n",
       "    }\n",
       "\n",
       "    .dataframe tbody tr th {\n",
       "        vertical-align: top;\n",
       "    }\n",
       "\n",
       "    .dataframe thead th {\n",
       "        text-align: right;\n",
       "    }\n",
       "</style>\n",
       "<table border=\"1\" class=\"dataframe\">\n",
       "  <thead>\n",
       "    <tr style=\"text-align: right;\">\n",
       "      <th></th>\n",
       "      <th>Cliente</th>\n",
       "      <th>Emails</th>\n",
       "    </tr>\n",
       "  </thead>\n",
       "  <tbody>\n",
       "    <tr>\n",
       "      <th>0</th>\n",
       "      <td>5stintas</td>\n",
       "      <td>[sama@5stintas.com.br, financeiro@5stintas.com...</td>\n",
       "    </tr>\n",
       "    <tr>\n",
       "      <th>1</th>\n",
       "      <td>abreuhost</td>\n",
       "      <td>[gilson@abreuhost.com.br, suporte@abreuhost.co...</td>\n",
       "    </tr>\n",
       "    <tr>\n",
       "      <th>2</th>\n",
       "      <td>abreunetworks</td>\n",
       "      <td>[registro.br@abreunetworks.com.br, financeiro@...</td>\n",
       "    </tr>\n",
       "    <tr>\n",
       "      <th>3</th>\n",
       "      <td>abreuweb</td>\n",
       "      <td>[]</td>\n",
       "    </tr>\n",
       "    <tr>\n",
       "      <th>4</th>\n",
       "      <td>adhering</td>\n",
       "      <td>[futsal@adhering.com.br, marketing@adhering.co...</td>\n",
       "    </tr>\n",
       "    <tr>\n",
       "      <th>...</th>\n",
       "      <td>...</td>\n",
       "      <td>...</td>\n",
       "    </tr>\n",
       "    <tr>\n",
       "      <th>297</th>\n",
       "      <td>votocont</td>\n",
       "      <td>[]</td>\n",
       "    </tr>\n",
       "    <tr>\n",
       "      <th>298</th>\n",
       "      <td>westfol</td>\n",
       "      <td>[contato@westfol.com.br, contato@westfol.com.b...</td>\n",
       "    </tr>\n",
       "    <tr>\n",
       "      <th>299</th>\n",
       "      <td>zapplin</td>\n",
       "      <td>[]</td>\n",
       "    </tr>\n",
       "    <tr>\n",
       "      <th>300</th>\n",
       "      <td>zigues</td>\n",
       "      <td>[]</td>\n",
       "    </tr>\n",
       "    <tr>\n",
       "      <th>301</th>\n",
       "      <td>zltecnologia</td>\n",
       "      <td>[vendas@zltecnologia.com.br, contato@zltecnolo...</td>\n",
       "    </tr>\n",
       "  </tbody>\n",
       "</table>\n",
       "<p>302 rows × 2 columns</p>\n",
       "</div>"
      ],
      "text/plain": [
       "           Cliente                                             Emails\n",
       "0         5stintas  [sama@5stintas.com.br, financeiro@5stintas.com...\n",
       "1        abreuhost  [gilson@abreuhost.com.br, suporte@abreuhost.co...\n",
       "2    abreunetworks  [registro.br@abreunetworks.com.br, financeiro@...\n",
       "3         abreuweb                                                 []\n",
       "4         adhering  [futsal@adhering.com.br, marketing@adhering.co...\n",
       "..             ...                                                ...\n",
       "297       votocont                                                 []\n",
       "298        westfol  [contato@westfol.com.br, contato@westfol.com.b...\n",
       "299        zapplin                                                 []\n",
       "300         zigues                                                 []\n",
       "301   zltecnologia  [vendas@zltecnologia.com.br, contato@zltecnolo...\n",
       "\n",
       "[302 rows x 2 columns]"
      ]
     },
     "execution_count": 24,
     "metadata": {},
     "output_type": "execute_result"
    }
   ],
   "source": [
    "df_customer"
   ]
  },
  {
   "cell_type": "code",
   "execution_count": 25,
   "metadata": {},
   "outputs": [
    {
     "data": {
      "text/html": [
       "<div>\n",
       "<style scoped>\n",
       "    .dataframe tbody tr th:only-of-type {\n",
       "        vertical-align: middle;\n",
       "    }\n",
       "\n",
       "    .dataframe tbody tr th {\n",
       "        vertical-align: top;\n",
       "    }\n",
       "\n",
       "    .dataframe thead th {\n",
       "        text-align: right;\n",
       "    }\n",
       "</style>\n",
       "<table border=\"1\" class=\"dataframe\">\n",
       "  <thead>\n",
       "    <tr style=\"text-align: right;\">\n",
       "      <th></th>\n",
       "      <th>Date</th>\n",
       "      <th>From</th>\n",
       "      <th>To</th>\n",
       "      <th>Action</th>\n",
       "    </tr>\n",
       "  </thead>\n",
       "  <tbody>\n",
       "    <tr>\n",
       "      <th>0</th>\n",
       "      <td>2023-06-28 22:52:52</td>\n",
       "      <td>qarecebnfefiat@nfe.fgbr</td>\n",
       "      <td>breitkopf</td>\n",
       "      <td>Rejected</td>\n",
       "    </tr>\n",
       "    <tr>\n",
       "      <th>1</th>\n",
       "      <td>2023-06-28 22:52:52</td>\n",
       "      <td>qarecebnfefiat@nfe.fgbr</td>\n",
       "      <td>breitkopf</td>\n",
       "      <td>Rejected</td>\n",
       "    </tr>\n",
       "    <tr>\n",
       "      <th>2</th>\n",
       "      <td>2023-06-28 22:52:52</td>\n",
       "      <td>bounces+6102634-2596-societario02=ccop.com.br@...</td>\n",
       "      <td>ccop</td>\n",
       "      <td>Rejected</td>\n",
       "    </tr>\n",
       "    <tr>\n",
       "      <th>3</th>\n",
       "      <td>2023-06-28 22:52:50</td>\n",
       "      <td>contadigital6366@vivo.com.br</td>\n",
       "      <td>fladafi</td>\n",
       "      <td>Blacklisted</td>\n",
       "    </tr>\n",
       "    <tr>\n",
       "      <th>4</th>\n",
       "      <td>2023-06-28 22:52:47</td>\n",
       "      <td>qarecebnfefiat@nfe.fgbr</td>\n",
       "      <td>breitkopf</td>\n",
       "      <td>Rejected</td>\n",
       "    </tr>\n",
       "  </tbody>\n",
       "</table>\n",
       "</div>"
      ],
      "text/plain": [
       "                  Date                                               From   \n",
       "0  2023-06-28 22:52:52                            qarecebnfefiat@nfe.fgbr  \\\n",
       "1  2023-06-28 22:52:52                            qarecebnfefiat@nfe.fgbr   \n",
       "2  2023-06-28 22:52:52  bounces+6102634-2596-societario02=ccop.com.br@...   \n",
       "3  2023-06-28 22:52:50                       contadigital6366@vivo.com.br   \n",
       "4  2023-06-28 22:52:47                            qarecebnfefiat@nfe.fgbr   \n",
       "\n",
       "          To       Action  \n",
       "0  breitkopf     Rejected  \n",
       "1  breitkopf     Rejected  \n",
       "2       ccop     Rejected  \n",
       "3    fladafi  Blacklisted  \n",
       "4  breitkopf     Rejected  "
      ]
     },
     "execution_count": 25,
     "metadata": {},
     "output_type": "execute_result"
    }
   ],
   "source": [
    "df_all = pd.DataFrame({'Date': df['Date'], \n",
    "                       'From':df['From'], \n",
    "                       'To': df['To'].apply(replace_emails_with_names, customer_dict=customer_dict), \n",
    "                       'Action': df['Action']})\n",
    "df_all.head()"
   ]
  },
  {
   "cell_type": "code",
   "execution_count": 26,
   "metadata": {},
   "outputs": [],
   "source": [
    "df_all.to_csv(f'{OUTPUT_PATH}\\log_view.csv', sep=',', index=False)"
   ]
  },
  {
   "attachments": {},
   "cell_type": "markdown",
   "metadata": {},
   "source": [
    "### 5 Etapa\n",
    "- Extrair do arquivo organizado os dados a serem mostrado na dashboard"
   ]
  },
  {
   "cell_type": "code",
   "execution_count": 27,
   "metadata": {},
   "outputs": [
    {
     "data": {
      "text/plain": [
       "Action\n",
       "Sent            326\n",
       "Rejected         73\n",
       "Blacklisted      52\n",
       "Blocked SPAM      3\n",
       "Bounced           1\n",
       "Name: count, dtype: int64"
      ]
     },
     "execution_count": 27,
     "metadata": {},
     "output_type": "execute_result"
    }
   ],
   "source": [
    "#quantidade de emaisl por acao realizada\n",
    "df_filt = df_all.loc[df_all['To']=='dannil']\n",
    "df_filt['Action'].value_counts()"
   ]
  },
  {
   "cell_type": "code",
   "execution_count": 34,
   "metadata": {},
   "outputs": [
    {
     "data": {
      "text/html": [
       "<div>\n",
       "<style scoped>\n",
       "    .dataframe tbody tr th:only-of-type {\n",
       "        vertical-align: middle;\n",
       "    }\n",
       "\n",
       "    .dataframe tbody tr th {\n",
       "        vertical-align: top;\n",
       "    }\n",
       "\n",
       "    .dataframe thead th {\n",
       "        text-align: right;\n",
       "    }\n",
       "</style>\n",
       "<table border=\"1\" class=\"dataframe\">\n",
       "  <thead>\n",
       "    <tr style=\"text-align: right;\">\n",
       "      <th></th>\n",
       "      <th>From</th>\n",
       "      <th>Qtd</th>\n",
       "      <th>Actions</th>\n",
       "    </tr>\n",
       "  </thead>\n",
       "  <tbody>\n",
       "    <tr>\n",
       "      <th>3585</th>\n",
       "      <td>Bidding-no-reply@exiros.com</td>\n",
       "      <td>12</td>\n",
       "      <td>Sent</td>\n",
       "    </tr>\n",
       "    <tr>\n",
       "      <th>7675</th>\n",
       "      <td>marcella.fernandes@georgfischer.com</td>\n",
       "      <td>11</td>\n",
       "      <td>Sent</td>\n",
       "    </tr>\n",
       "    <tr>\n",
       "      <th>9811</th>\n",
       "      <td>root@dymejar63.bkhodri</td>\n",
       "      <td>9</td>\n",
       "      <td>Sent</td>\n",
       "    </tr>\n",
       "    <tr>\n",
       "      <th>10386</th>\n",
       "      <td>no-reply@br.abb.com</td>\n",
       "      <td>8</td>\n",
       "      <td>Sent</td>\n",
       "    </tr>\n",
       "    <tr>\n",
       "      <th>14482</th>\n",
       "      <td>vanessa.merelles@refit.com.br</td>\n",
       "      <td>8</td>\n",
       "      <td>Sent</td>\n",
       "    </tr>\n",
       "    <tr>\n",
       "      <th>...</th>\n",
       "      <td>...</td>\n",
       "      <td>...</td>\n",
       "      <td>...</td>\n",
       "    </tr>\n",
       "    <tr>\n",
       "      <th>71865</th>\n",
       "      <td>tiago@industrialdovale.com.br</td>\n",
       "      <td>2</td>\n",
       "      <td>Blacklisted</td>\n",
       "    </tr>\n",
       "    <tr>\n",
       "      <th>71867</th>\n",
       "      <td>kelly@wortecbombas.com.br</td>\n",
       "      <td>2</td>\n",
       "      <td>Sent</td>\n",
       "    </tr>\n",
       "    <tr>\n",
       "      <th>74432</th>\n",
       "      <td>0100018903dc9446-17b83f60-4204-420c-af3b-726a1...</td>\n",
       "      <td>2</td>\n",
       "      <td>Sent</td>\n",
       "    </tr>\n",
       "    <tr>\n",
       "      <th>80470</th>\n",
       "      <td>jaqueline.costa@georgfischer.com</td>\n",
       "      <td>2</td>\n",
       "      <td>Sent</td>\n",
       "    </tr>\n",
       "    <tr>\n",
       "      <th>85943</th>\n",
       "      <td>bounces+33732293-c728-sueli=dannil.com.br@emai...</td>\n",
       "      <td>2</td>\n",
       "      <td>Sent</td>\n",
       "    </tr>\n",
       "  </tbody>\n",
       "</table>\n",
       "<p>104 rows × 3 columns</p>\n",
       "</div>"
      ],
      "text/plain": [
       "                                                    From  Qtd      Actions\n",
       "3585                         Bidding-no-reply@exiros.com   12         Sent\n",
       "7675                 marcella.fernandes@georgfischer.com   11         Sent\n",
       "9811                              root@dymejar63.bkhodri    9         Sent\n",
       "10386                                no-reply@br.abb.com    8         Sent\n",
       "14482                      vanessa.merelles@refit.com.br    8         Sent\n",
       "...                                                  ...  ...          ...\n",
       "71865                      tiago@industrialdovale.com.br    2  Blacklisted\n",
       "71867                          kelly@wortecbombas.com.br    2         Sent\n",
       "74432  0100018903dc9446-17b83f60-4204-420c-af3b-726a1...    2         Sent\n",
       "80470                   jaqueline.costa@georgfischer.com    2         Sent\n",
       "85943  bounces+33732293-c728-sueli=dannil.com.br@emai...    2         Sent\n",
       "\n",
       "[104 rows x 3 columns]"
      ]
     },
     "execution_count": 34,
     "metadata": {},
     "output_type": "execute_result"
    }
   ],
   "source": [
    "#contas que mais madaram email x ação realizada\n",
    "df_filt = df_all.loc[df_all['To']=='dannil']\n",
    "serie = df_filt['From'].value_counts()\n",
    "email_series = serie.loc[serie>1].index.to_list()\n",
    "df_from = df_filt.loc[df_filt['From'].isin(email_series)]\n",
    "qtd_series = df_from['From'].value_counts()\n",
    "df_tres = pd.DataFrame({'From': qtd_series.index, 'Qtd': qtd_series.values, 'Actions': df_from.drop_duplicates(subset=['From'])['Action']})\n",
    "df_tres"
   ]
  },
  {
   "attachments": {},
   "cell_type": "markdown",
   "metadata": {},
   "source": [
    "### ZONA DE TESTES E AJUSTES"
   ]
  },
  {
   "cell_type": "code",
   "execution_count": 29,
   "metadata": {},
   "outputs": [
    {
     "data": {
      "text/plain": [
       "To\n",
       "central@casadecarnesaraujo.com.br      371\n",
       "mileshopeeg@lardasfitas.com.br          98\n",
       "shopee@lardasfitas.com.br               86\n",
       "advogada@viviane.adv.br                 83\n",
       "contato@lardasfitas.com.br              71\n",
       "                                      ... \n",
       "zd7k9b6q1upqpre@c3radiologia.com.br      1\n",
       "9kindbi16vzow@c3radiologia.com.br        1\n",
       "emfbwfdtv4db@c3radiologia.com.br         1\n",
       "q410tr6yw4pvy5s@c3radiologia.com.br      1\n",
       "postmaster@patiocorina.com.br            1\n",
       "Name: count, Length: 666, dtype: int64"
      ]
     },
     "execution_count": 29,
     "metadata": {},
     "output_type": "execute_result"
    }
   ],
   "source": [
    "df_errados = df_all.loc[df_all['To'].str.contains('@')]\n",
    "df_errados['To'].value_counts()"
   ]
  },
  {
   "cell_type": "code",
   "execution_count": 30,
   "metadata": {},
   "outputs": [],
   "source": [
    "error_list = []\n",
    "\n",
    "for cust in df_errados['To'].drop_duplicates():\n",
    "    split_str = cust.split('@')[1]\n",
    "    if \"@\"+split_str not in error_list:\n",
    "        error_list.append(\"@\"+split_str)"
   ]
  },
  {
   "cell_type": "code",
   "execution_count": 31,
   "metadata": {},
   "outputs": [
    {
     "data": {
      "text/plain": [
       "['@lardasfitas.com.br',\n",
       " '@gressusseguros.com.br',\n",
       " '@rentalenergybrasil.com.br',\n",
       " '@nfendd.com.br',\n",
       " '@basesc.eng.br',\n",
       " '@simpleslocadora.com.br',\n",
       " '@outlook.de',\n",
       " '@renatodiasplanner.com.br',\n",
       " '@dell.com',\n",
       " '@otto.ind.br',\n",
       " '@reseteletronicaindustrial.com.br',\n",
       " '@viviane.adv.br',\n",
       " '@duffles.net.br',\n",
       " '@gmail.com',\n",
       " '@unixsaude.com.br',\n",
       " '@dimasdona.com.br',\n",
       " '@outlookweb.com.br',\n",
       " '@greaselubrificantes.com.br,vendas',\n",
       " '@greaselubrificantes.com.br',\n",
       " '@pirosolucoes.com.br',\n",
       " '@VIVIANE.ADV.BR',\n",
       " '@renovaagroibitinga.com.br',\n",
       " '@spaceengenharia.eng.br',\n",
       " '@cnl.inf.br',\n",
       " '@abreubusiness.com.br',\n",
       " '@casadecarnesaraujo.com.br',\n",
       " '@ltbgrupodobrasil.com.br',\n",
       " '@terra.com.br',\n",
       " '@valius.com.br',\n",
       " '@elder-th.eti.br',\n",
       " '@fuabc.org.br',\n",
       " '@RENATODIASPLANNER.COM.BR',\n",
       " '@SMSR.COM.BR',\n",
       " '@celesc.com.br',\n",
       " '@localiza.com',\n",
       " '@paulorogerioimoveis.com.br',\n",
       " '@mdsolucoes.net.br',\n",
       " '@disman.com.br',\n",
       " '@grupovamos.com.br',\n",
       " '@greaseespecial.com.br',\n",
       " '@econeteditora.com.br',\n",
       " '@OTTO.IND.BR,DAIANE',\n",
       " '@OTTO.IND.BR',\n",
       " '@BREITKOPF.COM.BR',\n",
       " '@nfs-e.net',\n",
       " '@GRESSUSSEGUROS.COM.BR',\n",
       " '@DANLUZ.COM.BR',\n",
       " '@nextfleet.com.br',\n",
       " '@bbtv.com.br',\n",
       " '@rentalenergybrasil.com.br,engenharia',\n",
       " '@emailmkt.febraban.org.br',\n",
       " '@BASESC.ENG.BR',\n",
       " '@em9914.tokiomarine.com.br',\n",
       " '@fratellicortes.com.br',\n",
       " '@guiaitajai.com',\n",
       " '@patiocorina.com.br',\n",
       " '@pimentelseguros.net',\n",
       " '@saofelixcontrutora.com',\n",
       " '@elbergrafica.com.br',\n",
       " '@etkainfo.com',\n",
       " '@GREASELUBRIFICANTES.COM.BR',\n",
       " '@tmhmangueiras.com.br',\n",
       " '@jucerja.rj.gov.br',\n",
       " '@libertyseguros.com.br',\n",
       " '@jwhidraulica.com.br',\n",
       " '@piqueturlog.com.br',\n",
       " '@facebookmail.com',\n",
       " '@GRESSUSSEGUROS.COM.BR,gressus',\n",
       " '@ecofrotas.com.br',\n",
       " '@cvi.net.br',\n",
       " '@motormac.com.br',\n",
       " '@nigbrinquedos.com.br',\n",
       " '@sofisa.com.br',\n",
       " '@smtplw-08.com',\n",
       " '@brasilpar.com.br',\n",
       " '@mkt.vwsignanddrive.com.br',\n",
       " '@mjbcont.com.br',\n",
       " '@basesc.eng.br,engenharia2',\n",
       " '@minhaclaro.com.br',\n",
       " '@deschampscontainer.com.br',\n",
       " '@news.tur.br',\n",
       " '@execdistribuidora.com.br',\n",
       " '@mferretti.com.br',\n",
       " '@parceragro.com.br',\n",
       " '@sistemaprismatec.com.br',\n",
       " '@casasdaagua.com.br',\n",
       " '@allmont.com.br',\n",
       " '@moldabem.com.br',\n",
       " '@weg.net',\n",
       " '@voko.com.br',\n",
       " '@smtplw-10.com',\n",
       " '@smtplw-16.com',\n",
       " '@c3radiologia.com.br',\n",
       " '@qcertificaemail.com.br',\n",
       " '@rollfor.com.br',\n",
       " '@propostacorporativa1.com.br',\n",
       " '@suporte4.com.br',\n",
       " '@SMSR.COM.BR,TONY',\n",
       " '@emailexchangeonline.com.br',\n",
       " '@atendimentolibertyseguros.com.br',\n",
       " '@iacda.com.br',\n",
       " '@senealuminio.com.br',\n",
       " '@Eaton.com',\n",
       " '@GREASEESPECIAL.COM.BR',\n",
       " '@basesc.eng.br,orcamento1',\n",
       " '@tecnoport.com.br',\n",
       " '@abevak.com.br',\n",
       " '@emailzimbraonline.com.br',\n",
       " '@casadatopografia.com.br',\n",
       " '@vinicolabasso.com.br',\n",
       " '@alimaqmix.com.br',\n",
       " '@midland-quimica.com.br',\n",
       " '@SIMPLESLOCADORA.COM.BR',\n",
       " '@ecovitaconstrutora.com.br',\n",
       " '@rentalenergybrasil.com.br,josue.eduardo',\n",
       " '@googmedia.store',\n",
       " '@mk4arcondicionado.com.br',\n",
       " '@breitkopf.com.br,man1301',\n",
       " '@aisam.com.br',\n",
       " '@agricopel.com.br',\n",
       " '@damflex.com.br',\n",
       " '@stabile.des.br',\n",
       " '@securisoft.com.br',\n",
       " '@SMSR.COM.BRFRANCINE',\n",
       " '@gressusseguros.com.br,carlos.barros',\n",
       " '@wiplay.com.br',\n",
       " '@caperlex.com.br',\n",
       " '@BREITKOPF.COM.BR,seguros2',\n",
       " '@hv.d.sender-sib.com',\n",
       " '@delcaflex.com.br',\n",
       " '@safholland.com.br',\n",
       " '@amazonses.com',\n",
       " '@sicredi.com.br',\n",
       " '@alest.com.br',\n",
       " '@rina.org',\n",
       " '@cacpp.com.br',\n",
       " '@rolamentosrs.com.br',\n",
       " '@mbgrafica.com.br',\n",
       " '@qut2.hu-openstacklocal.top',\n",
       " '@LTBGRUPODOBRASIL.COM.BR',\n",
       " '@radmedsr.com.br',\n",
       " '@grupofarma.com.br',\n",
       " '@alerts.bounces.google.com',\n",
       " '@skiparque.com.br',\n",
       " '@bounce.em.mkt.mobiauto.com.br',\n",
       " '@click.omie.com.br',\n",
       " '@email2.microsoft.com',\n",
       " '@smtplw-15.com',\n",
       " '@abracop-abracit.com.br',\n",
       " '@mail.instagram.com',\n",
       " '@gardeningequ.com',\n",
       " '@2dconstrucoes.com.br',\n",
       " '@em2848.maisfrete.com.br',\n",
       " '@grupoarg.com.br',\n",
       " '@tiscali.it',\n",
       " '@returns.bulkemailbest.com',\n",
       " '@smgrid.pl',\n",
       " '@qebsolutions.org',\n",
       " '@noriyuki.com.br',\n",
       " '@stellantis.com']"
      ]
     },
     "execution_count": 31,
     "metadata": {},
     "output_type": "execute_result"
    }
   ],
   "source": [
    "error_list"
   ]
  }
 ],
 "metadata": {
  "kernelspec": {
   "display_name": "venv",
   "language": "python",
   "name": "python3"
  },
  "language_info": {
   "codemirror_mode": {
    "name": "ipython",
    "version": 3
   },
   "file_extension": ".py",
   "mimetype": "text/x-python",
   "name": "python",
   "nbconvert_exporter": "python",
   "pygments_lexer": "ipython3",
   "version": "3.10.11"
  },
  "orig_nbformat": 4
 },
 "nbformat": 4,
 "nbformat_minor": 2
}
