{
 "cells": [
  {
   "cell_type": "code",
   "execution_count": 179,
   "metadata": {},
   "outputs": [],
   "source": [
    "import tools as tl\n",
    "from selenium.webdriver.support.select import Select\n",
    "import requests\n",
    "import pandas as pd\n",
    "import configparser\n",
    "import matplotlib.pyplot as plt"
   ]
  },
  {
   "cell_type": "code",
   "execution_count": null,
   "metadata": {},
   "outputs": [],
   "source": [
    "def get_config_data(**kwargs):\n",
    "    \"\"\"\n",
    "    This function reads a configuration file and returns the value of a specified field.\n",
    "    \n",
    "    :param path: The path to the configuration file that needs to be read\n",
    "    :return: the data from the specified field and value in the configuration file located at the\n",
    "    specified path.\n",
    "    \"\"\"\n",
    "    #Abrindo o arquivo de configurações\n",
    "    arq = configparser.RawConfigParser()\n",
    "    arq.read(CONFIG_PATH)\n",
    "\n",
    "    #Pegando os dados do arquivo\n",
    "    data = arq.get(kwargs['field'], kwargs['value'])\n",
    "\n",
    "    return data\n"
   ]
  },
  {
   "cell_type": "code",
   "execution_count": 180,
   "metadata": {},
   "outputs": [],
   "source": [
    "# Função para substituir os emails pelo nome do cliente\n",
    "def replace_emails_with_names(email, customer_dict):\n",
    "    \n",
    "    for name, emails in customer_dict.items():\n",
    "        if (email.lower() in [em.lower() for em in emails]):\n",
    "            return name\n",
    "    return email"
   ]
  },
  {
   "cell_type": "code",
   "execution_count": 181,
   "metadata": {},
   "outputs": [],
   "source": [
    "def create_customer_dict(customers_list, df_all):\n",
    "    customer_dict = {}\n",
    "\n",
    "    for customer in customers_list: \n",
    "        df_filt = df_all.loc[df_all['To'].str.contains(customer)]\n",
    "        customer_dict[customer] = df_filt['To'].value_counts().index.to_list()\n",
    "        #df_filt.to_excel(f'{OUTPUT_PATH}\\{customer}.xlsx', index=False)\n",
    "    \n",
    "    return customer_dict"
   ]
  },
  {
   "cell_type": "code",
   "execution_count": null,
   "metadata": {},
   "outputs": [],
   "source": [
    "def replace_custom_names(customer_names):\n",
    "    diff_custom = {\n",
    "        'aguia':'aguiasecuritizadora',\n",
    "        'bombinhassummer':'bombinhassummerbeach', \n",
    "        'dutoclean': 'dutocleanbauru',\n",
    "        'fabricenter': 'fabricenter470',\n",
    "        'fazcomunicacao': 'fazcomunicacaovisual',\n",
    "        'galli': 'galliatacadista',\n",
    "        'impacto': 'impactoesports',\n",
    "        'jcleletronica': 'jcleletronicaindustrial',\n",
    "        'mailinspector': 'filter.mailinspector',\n",
    "        'plantfort': 'plantfortfertil',\n",
    "        'primedigital': 'primemidiadigital',\n",
    "        'quinta': 'quintadonino',\n",
    "        'raysolar': 'raysolarbrasil',\n",
    "        'reset': 'resetmairinque',\n",
    "        'revar': 'revarcondicionado',\n",
    "        'rodoflex': 'rodoflexpneus',\n",
    "        'sany': 'sanydobrasil',\n",
    "        'supernagai': 'supermercadosnagai',\n",
    "        'agrotecagro': 'agrotecagroquimica',\n",
    "        'barulhinhobomchips': 'barulhinhobom',\n",
    "        'marcospaulo': 'marcospauloimoveis',\n",
    "        'cortedobra': 'cortedobraseguranca',\n",
    "        'ortobaby': 'ortobabycalcados',\n",
    "        'arinteli': 'arinteligenciatributaria',\n",
    "        \n",
    "    }   \n",
    "\n",
    "    for diff_name in diff_custom.keys():\n",
    "        list_index = customer_names.index(diff_name)\n",
    "        customer_names[list_index] = diff_custom[diff_name]\n",
    "    \n",
    "    return customer_names"
   ]
  },
  {
   "cell_type": "code",
   "execution_count": 1,
   "metadata": {},
   "outputs": [],
   "source": [
    "diff_custom = {\n",
    "    'aguia':'aguiasecuritizadora',\n",
    "    'bombinhassummer':'bombinhassummerbeach', \n",
    "    'dutoclean': 'dutocleanbauru',\n",
    "    'fabricenter': 'fabricenter470',\n",
    "    'fazcomunicacao': 'fazcomunicacaovisual',\n",
    "    'galli': 'galliatacadista',\n",
    "    'impacto': 'impactoesports',\n",
    "    'jcleletronica': 'jcleletronicaindustrial',\n",
    "    'mailinspector': 'filter.mailinspector',\n",
    "    'plantfort': 'plantfortfertil',\n",
    "    'primedigital': 'primemidiadigital',\n",
    "    'quinta': 'quintadonino',\n",
    "    'raysolar': 'raysolarbrasil',\n",
    "    'reset': 'resetmairinque',\n",
    "    'revar': 'revarcondicionado',\n",
    "    'rodoflex': 'rodoflexpneus',\n",
    "    'sany': 'sanydobrasil',\n",
    "    'supernagai': 'supermercadosnagai',\n",
    "    'agrotecagro': 'agrotecagroquimica',\n",
    "    'barulhinhobomchips': 'barulhinhobom',\n",
    "    'marcospaulo': 'marcospauloimoveis',\n",
    "    'cortedobra': 'cortedobraseguranca',\n",
    "    'ortobaby': 'ortobabycalcados',\n",
    "    'arinteli': 'arinteligenciatributaria',\n",
    "    \n",
    "}\n"
   ]
  },
  {
   "cell_type": "code",
   "execution_count": null,
   "metadata": {},
   "outputs": [],
   "source": [
    "def get_config_data(path, **kwargs):\n",
    "    \n",
    "    #Abrindo o arquivo de configurações\n",
    "    arq = configparser.RawConfigParser()\n",
    "    arq.read(path)\n",
    "    \n",
    "    #Pegando os dados do arquivo\n",
    "    data = arq.get(kwargs['field'], kwargs['value'])\n",
    "    \n",
    "    return data"
   ]
  },
  {
   "cell_type": "code",
   "execution_count": 182,
   "metadata": {},
   "outputs": [],
   "source": [
    "def replace_numeric_chars(string):\n",
    "    replacements = {'0': 'o', '1': 'i', '3': 'e', '4': 'a', '5': 's', '7': 't', '8': 'b'}\n",
    "    for char, replacement in replacements.items():\n",
    "        if string not in ['5stintas','c3']:\n",
    "            string = string.replace(char, replacement)\n",
    "    return string"
   ]
  },
  {
   "cell_type": "code",
   "execution_count": 183,
   "metadata": {},
   "outputs": [],
   "source": [
    "URL = 'https://filter.mailinspector.com.br/login/index.php'\n",
    "API_URL = 'https://filter.mailinspector.com.br/login/mailLogViewer.php'\n",
    "OUTPUT_PATH = r'C:\\Users\\Vitor Augusto\\Documents\\Programas\\abreus_network_bot_report\\files'\n",
    "user ='admin'\n",
    "senha = 'N6wq@Ks72'"
   ]
  },
  {
   "cell_type": "code",
   "execution_count": 184,
   "metadata": {},
   "outputs": [
    {
     "name": "stdout",
     "output_type": "stream",
     "text": [
      "Limpando arquivos gerais\n",
      "customers_emails.xlsx removido com sucesso.\n",
      "log_view.csv removido com sucesso.\n",
      "log_view.txt removido com sucesso.\n",
      "original.csv removido com sucesso.\n"
     ]
    }
   ],
   "source": [
    "tl.clean_dir(OUTPUT_PATH)"
   ]
  },
  {
   "attachments": {},
   "cell_type": "markdown",
   "metadata": {},
   "source": [
    "### 1 Etapa\n",
    "\n",
    "- Acessar o portal\n",
    "- Salvar a lista de clientes \n",
    "- Salvar os cookies para passar na API"
   ]
  },
  {
   "cell_type": "code",
   "execution_count": 185,
   "metadata": {},
   "outputs": [],
   "source": [
    "driver = tl.create_driver(headless=False)\n",
    "driver.get(URL)"
   ]
  },
  {
   "cell_type": "code",
   "execution_count": 186,
   "metadata": {},
   "outputs": [
    {
     "name": "stdout",
     "output_type": "stream",
     "text": [
      ">>>Sucesso clicando em login>>>\n",
      ">>>Sucesso passando o user>>>\n",
      ">>>Sucesso clicando em senha>>>\n",
      ">>>Sucesso passando a senha>>>\n",
      ">>>Sucesso clicando no botao login>>>\n"
     ]
    }
   ],
   "source": [
    "tl.clicking(element='clicando em login', path='email', by='name', driver=driver).click()\n",
    "tl.clicking(element='passando o user', path='email', by='name', driver=driver).send_keys(user)\n",
    "\n",
    "tl.clicking(element='clicando em senha', path='password', by='name', driver=driver).click()\n",
    "tl.clicking(element='passando a senha', path='password', by='name', driver=driver).send_keys(senha)\n",
    "\n",
    "tl.clicking(element='clicando no botao login', path=\"//input[@type='submit']\", driver=driver).click()"
   ]
  },
  {
   "cell_type": "code",
   "execution_count": 187,
   "metadata": {},
   "outputs": [
    {
     "name": "stdout",
     "output_type": "stream",
     "text": [
      ">>>Sucesso Selecionando Linked Accounts>>>\n"
     ]
    }
   ],
   "source": [
    "tl.clicking(element='Selecionando Linked Accounts', path=\"//*[text()='Linked Accounts']\", driver=driver).click() "
   ]
  },
  {
   "cell_type": "code",
   "execution_count": 188,
   "metadata": {},
   "outputs": [
    {
     "name": "stdout",
     "output_type": "stream",
     "text": [
      ">>>Sucesso selecionando o selector com todos os clientes>>>\n"
     ]
    }
   ],
   "source": [
    "drop_down = tl.clicking(element='selecionando o selector com todos os clientes', path='hijackName', by='name', driver=driver)\n",
    "drop_down_obj = Select(drop_down)"
   ]
  },
  {
   "cell_type": "code",
   "execution_count": 190,
   "metadata": {},
   "outputs": [],
   "source": [
    "customers_list = [opt.text for opt in drop_down_obj.options]\n",
    "customers_list.pop(0)\n",
    "customers_list = [em.lower() for em in customers_list]\n",
    "customers_list = list(map(lambda char: replace_numeric_chars(char), customers_list))\n",
    "customers_list = replace_custom_names(customers_list)"
   ]
  },
  {
   "cell_type": "code",
   "execution_count": 191,
   "metadata": {},
   "outputs": [],
   "source": [
    "cookies = tl.get_cookies(driver)"
   ]
  },
  {
   "cell_type": "code",
   "execution_count": 192,
   "metadata": {},
   "outputs": [],
   "source": [
    "driver.quit()"
   ]
  },
  {
   "attachments": {},
   "cell_type": "markdown",
   "metadata": {},
   "source": [
    "### 2 Etapa\n",
    "- Configurar os paramentros da API\n",
    "- Acessar os reports dos clientes via API\n",
    "- salvar como arquivo csv para facilitar a modelagem"
   ]
  },
  {
   "cell_type": "code",
   "execution_count": 193,
   "metadata": {},
   "outputs": [],
   "source": [
    "headersList = {\n",
    " \"Cookie\": f\"PHPSESSID={cookies['PHPSESSID']}; lang=pt_BR\",\n",
    " \"Referer\": \"https://filter.mailinspector.com.br/login/mailLogViewer.php\", \n",
    "}\n",
    "\n",
    "response = requests.get('https://filter.mailinspector.com.br/login/mailLogViewer.php?from=05%2F17%2F2023&to=05%2F18%2F2023&page=-1', headers=headersList)\n",
    "result = response.text"
   ]
  },
  {
   "cell_type": "code",
   "execution_count": 194,
   "metadata": {},
   "outputs": [],
   "source": [
    "with open(f'{OUTPUT_PATH}\\log_view.txt', 'w') as f:\n",
    "    f.write(result)"
   ]
  },
  {
   "cell_type": "code",
   "execution_count": 195,
   "metadata": {},
   "outputs": [
    {
     "data": {
      "text/html": [
       "<div>\n",
       "<style scoped>\n",
       "    .dataframe tbody tr th:only-of-type {\n",
       "        vertical-align: middle;\n",
       "    }\n",
       "\n",
       "    .dataframe tbody tr th {\n",
       "        vertical-align: top;\n",
       "    }\n",
       "\n",
       "    .dataframe thead th {\n",
       "        text-align: right;\n",
       "    }\n",
       "</style>\n",
       "<table border=\"1\" class=\"dataframe\">\n",
       "  <thead>\n",
       "    <tr style=\"text-align: right;\">\n",
       "      <th></th>\n",
       "      <th>Date</th>\n",
       "      <th>From</th>\n",
       "      <th>To</th>\n",
       "      <th>Subject</th>\n",
       "      <th>Action</th>\n",
       "      <th>Score</th>\n",
       "      <th>Source IP</th>\n",
       "    </tr>\n",
       "  </thead>\n",
       "  <tbody>\n",
       "    <tr>\n",
       "      <th>0</th>\n",
       "      <td>2023-05-17 23:59:40</td>\n",
       "      <td>reminders@facebookmail.com</td>\n",
       "      <td>marcelo2@superpanelao.com.br</td>\n",
       "      <td>=?UTF-8?B?QXR1YWxpemHDp8O1ZXMgcGE=?=? =?UTF-8?...</td>\n",
       "      <td>Sent</td>\n",
       "      <td>0.0</td>\n",
       "      <td>216.55.103.238</td>\n",
       "    </tr>\n",
       "    <tr>\n",
       "      <th>1</th>\n",
       "      <td>2023-05-17 23:59:40</td>\n",
       "      <td>reminders@facebookmail.com</td>\n",
       "      <td>marcelo2@superpanelao.com.br</td>\n",
       "      <td>=?UTF-8?B?QXR1YWxpemHDp8O1ZXMgcGE=?=? =?UTF-8?...</td>\n",
       "      <td>Sent</td>\n",
       "      <td>NaN</td>\n",
       "      <td>66.220.144.144</td>\n",
       "    </tr>\n",
       "    <tr>\n",
       "      <th>2</th>\n",
       "      <td>2023-05-17 23:59:29</td>\n",
       "      <td>bounces+1686153-0001-crm4=breitkopf.com.br@ema...</td>\n",
       "      <td>crm4@breitkopf.com.br</td>\n",
       "      <td>NaN</td>\n",
       "      <td>Rejected</td>\n",
       "      <td>NaN</td>\n",
       "      <td>167.89.93.240</td>\n",
       "    </tr>\n",
       "    <tr>\n",
       "      <th>3</th>\n",
       "      <td>2023-05-17 23:59:27</td>\n",
       "      <td>bounces+8038336-a8a4-elieser.fernandes=csimont...</td>\n",
       "      <td>elieser.fernandes@csimontagens.com.br</td>\n",
       "      <td>NaN</td>\n",
       "      <td>Rejected</td>\n",
       "      <td>NaN</td>\n",
       "      <td>149.72.227.0</td>\n",
       "    </tr>\n",
       "    <tr>\n",
       "      <th>4</th>\n",
       "      <td>2023-05-17 23:59:27</td>\n",
       "      <td>bounces+1686153-ec68-crm3=breitkopf.com.br@ema...</td>\n",
       "      <td>crm3@breitkopf.com.br</td>\n",
       "      <td>NaN</td>\n",
       "      <td>Rejected</td>\n",
       "      <td>NaN</td>\n",
       "      <td>167.89.93.240</td>\n",
       "    </tr>\n",
       "  </tbody>\n",
       "</table>\n",
       "</div>"
      ],
      "text/plain": [
       "                  Date                                               From   \n",
       "0  2023-05-17 23:59:40                         reminders@facebookmail.com  \\\n",
       "1  2023-05-17 23:59:40                         reminders@facebookmail.com   \n",
       "2  2023-05-17 23:59:29  bounces+1686153-0001-crm4=breitkopf.com.br@ema...   \n",
       "3  2023-05-17 23:59:27  bounces+8038336-a8a4-elieser.fernandes=csimont...   \n",
       "4  2023-05-17 23:59:27  bounces+1686153-ec68-crm3=breitkopf.com.br@ema...   \n",
       "\n",
       "                                      To   \n",
       "0           marcelo2@superpanelao.com.br  \\\n",
       "1           marcelo2@superpanelao.com.br   \n",
       "2                  crm4@breitkopf.com.br   \n",
       "3  elieser.fernandes@csimontagens.com.br   \n",
       "4                  crm3@breitkopf.com.br   \n",
       "\n",
       "                                             Subject    Action  Score   \n",
       "0  =?UTF-8?B?QXR1YWxpemHDp8O1ZXMgcGE=?=? =?UTF-8?...      Sent    0.0  \\\n",
       "1  =?UTF-8?B?QXR1YWxpemHDp8O1ZXMgcGE=?=? =?UTF-8?...      Sent    NaN   \n",
       "2                                                NaN  Rejected    NaN   \n",
       "3                                                NaN  Rejected    NaN   \n",
       "4                                                NaN  Rejected    NaN   \n",
       "\n",
       "        Source IP  \n",
       "0  216.55.103.238  \n",
       "1  66.220.144.144  \n",
       "2   167.89.93.240  \n",
       "3    149.72.227.0  \n",
       "4   167.89.93.240  "
      ]
     },
     "execution_count": 195,
     "metadata": {},
     "output_type": "execute_result"
    }
   ],
   "source": [
    "df = pd.read_csv(f'{OUTPUT_PATH}\\log_view.txt')\n",
    "df.to_csv(f'{OUTPUT_PATH}\\original.csv', index=False, sep=',')\n",
    "df.head()"
   ]
  },
  {
   "attachments": {},
   "cell_type": "markdown",
   "metadata": {},
   "source": [
    "### 4 Etapa\n",
    "- Organizar o arquivo extraido da API\n",
    "- Alterar a coluna 'To' que são os emails, para os nomes dos clientes"
   ]
  },
  {
   "cell_type": "code",
   "execution_count": 196,
   "metadata": {},
   "outputs": [],
   "source": [
    "customer_dict = {}\n",
    "for customer in customers_list:\n",
    "    customer_dict[customer] = [email for email in df['To'] if (email.endswith('@'+customer.lower()+'.com.br')) or (email.endswith('@'+customer.lower()+'.com'))]"
   ]
  },
  {
   "cell_type": "code",
   "execution_count": 197,
   "metadata": {},
   "outputs": [],
   "source": [
    "#customer_dict = create_customer_dict(customers_list, df)\n",
    "df_customer = pd.DataFrame({\"Cliente\":list(customer_dict.keys()),\n",
    "                            \"Emails\":list(customer_dict.values())})\n",
    "\n",
    "df_customer.to_excel(f'{OUTPUT_PATH}\\customers_emails.xlsx', index=False)"
   ]
  },
  {
   "cell_type": "code",
   "execution_count": 198,
   "metadata": {},
   "outputs": [
    {
     "data": {
      "text/html": [
       "<div>\n",
       "<style scoped>\n",
       "    .dataframe tbody tr th:only-of-type {\n",
       "        vertical-align: middle;\n",
       "    }\n",
       "\n",
       "    .dataframe tbody tr th {\n",
       "        vertical-align: top;\n",
       "    }\n",
       "\n",
       "    .dataframe thead th {\n",
       "        text-align: right;\n",
       "    }\n",
       "</style>\n",
       "<table border=\"1\" class=\"dataframe\">\n",
       "  <thead>\n",
       "    <tr style=\"text-align: right;\">\n",
       "      <th></th>\n",
       "      <th>Date</th>\n",
       "      <th>From</th>\n",
       "      <th>To</th>\n",
       "      <th>Action</th>\n",
       "    </tr>\n",
       "  </thead>\n",
       "  <tbody>\n",
       "    <tr>\n",
       "      <th>0</th>\n",
       "      <td>2023-05-17 23:59:40</td>\n",
       "      <td>reminders@facebookmail.com</td>\n",
       "      <td>superpanelao</td>\n",
       "      <td>Sent</td>\n",
       "    </tr>\n",
       "    <tr>\n",
       "      <th>1</th>\n",
       "      <td>2023-05-17 23:59:40</td>\n",
       "      <td>reminders@facebookmail.com</td>\n",
       "      <td>superpanelao</td>\n",
       "      <td>Sent</td>\n",
       "    </tr>\n",
       "    <tr>\n",
       "      <th>2</th>\n",
       "      <td>2023-05-17 23:59:29</td>\n",
       "      <td>bounces+1686153-0001-crm4=breitkopf.com.br@ema...</td>\n",
       "      <td>breitkopf</td>\n",
       "      <td>Rejected</td>\n",
       "    </tr>\n",
       "    <tr>\n",
       "      <th>3</th>\n",
       "      <td>2023-05-17 23:59:27</td>\n",
       "      <td>bounces+8038336-a8a4-elieser.fernandes=csimont...</td>\n",
       "      <td>csimontagens</td>\n",
       "      <td>Rejected</td>\n",
       "    </tr>\n",
       "    <tr>\n",
       "      <th>4</th>\n",
       "      <td>2023-05-17 23:59:27</td>\n",
       "      <td>bounces+1686153-ec68-crm3=breitkopf.com.br@ema...</td>\n",
       "      <td>breitkopf</td>\n",
       "      <td>Rejected</td>\n",
       "    </tr>\n",
       "  </tbody>\n",
       "</table>\n",
       "</div>"
      ],
      "text/plain": [
       "                  Date                                               From   \n",
       "0  2023-05-17 23:59:40                         reminders@facebookmail.com  \\\n",
       "1  2023-05-17 23:59:40                         reminders@facebookmail.com   \n",
       "2  2023-05-17 23:59:29  bounces+1686153-0001-crm4=breitkopf.com.br@ema...   \n",
       "3  2023-05-17 23:59:27  bounces+8038336-a8a4-elieser.fernandes=csimont...   \n",
       "4  2023-05-17 23:59:27  bounces+1686153-ec68-crm3=breitkopf.com.br@ema...   \n",
       "\n",
       "             To    Action  \n",
       "0  superpanelao      Sent  \n",
       "1  superpanelao      Sent  \n",
       "2     breitkopf  Rejected  \n",
       "3  csimontagens  Rejected  \n",
       "4     breitkopf  Rejected  "
      ]
     },
     "execution_count": 198,
     "metadata": {},
     "output_type": "execute_result"
    }
   ],
   "source": [
    "df_all = pd.DataFrame({'Date': df['Date'], \n",
    "                       'From':df['From'], \n",
    "                       'To': df['To'].apply(replace_emails_with_names, customer_dict=customer_dict), \n",
    "                       'Action': df['Action']})\n",
    "df_all.head()"
   ]
  },
  {
   "cell_type": "code",
   "execution_count": 199,
   "metadata": {},
   "outputs": [],
   "source": [
    "df_all.to_csv(f'{OUTPUT_PATH}\\log_view.csv', sep=',', index=False)"
   ]
  },
  {
   "cell_type": "code",
   "execution_count": 200,
   "metadata": {},
   "outputs": [
    {
     "data": {
      "text/plain": [
       "To\n",
       "marilia@mariliavalenca.com.br         185\n",
       "advogada@viviane.adv.br                98\n",
       "raquelmarques@unixsaude.com.br         84\n",
       "cccerqueira@unixsaude.com.br           71\n",
       "vendas@greaselubrificantes.com.br      69\n",
       "                                     ... \n",
       "dfk10ervo08p@outlookweb.com.br          1\n",
       "hostmaster@outlookweb.com.br            1\n",
       "trv4zuq9hd99z@outlookweb.com.br         1\n",
       "uqe77r3nm66u7gkv@outlookweb.com.br      1\n",
       "faturadigital@itau.com.br               1\n",
       "Name: count, Length: 1045, dtype: int64"
      ]
     },
     "execution_count": 200,
     "metadata": {},
     "output_type": "execute_result"
    }
   ],
   "source": [
    "df_errados = df_all.loc[df_all['To'].str.contains('@')]\n",
    "df_errados['To'].value_counts()"
   ]
  },
  {
   "cell_type": "code",
   "execution_count": 201,
   "metadata": {},
   "outputs": [],
   "source": [
    "error_list = []\n",
    "\n",
    "for cust in df_errados['To'].drop_duplicates():\n",
    "    split_str = cust.split('@')[1]\n",
    "    if \"@\"+split_str not in error_list:\n",
    "        error_list.append(\"@\"+split_str)"
   ]
  },
  {
   "cell_type": "code",
   "execution_count": 202,
   "metadata": {},
   "outputs": [
    {
     "data": {
      "text/plain": [
       "['@mariliavalenca.com.br',\n",
       " '@unixsaude.com.br',\n",
       " '@lardasfitas.com.br',\n",
       " '@pentafixacoes.com.br',\n",
       " '@nfendd.com.br',\n",
       " '@basesc.eng.br',\n",
       " '@viviane.adv.br',\n",
       " '@4takes.com.br',\n",
       " '@greaselubrificantes.com.br',\n",
       " '@gressusseguros.com.br',\n",
       " '@outlook.de',\n",
       " '@greaseespecial.com.br',\n",
       " '@dimasdona.com.br',\n",
       " '@elder-th.eti.br',\n",
       " '@freto.com',\n",
       " '@facebookmail.com',\n",
       " '@otto.ind.br',\n",
       " '@deschampscontainer.com.br',\n",
       " '@pirosolucoes.com.br',\n",
       " '@VIVIANE.ADV.BR',\n",
       " '@jallesmachado.com',\n",
       " '@VITORIAATACAREJO.COM.BR',\n",
       " '@casadecarnesaraujo.com.br',\n",
       " '@valius.com.br',\n",
       " '@SUPERPANELAO.COM.BR',\n",
       " '@gruponazarao.com.br',\n",
       " '@grupopetropolis.com.br',\n",
       " '@cideestagio.com.br',\n",
       " '@abreubusiness.com.br',\n",
       " '@duffles.net.br',\n",
       " '@adv.oabsp.org.br',\n",
       " '@zancapel.com.br',\n",
       " '@sompo.com.br',\n",
       " '@delegatelists.com',\n",
       " '@bauducco.com.br',\n",
       " '@simpleslocadora.com.br',\n",
       " '@gmail.com',\n",
       " '@renovaagroibitinga.com.br',\n",
       " '@delegatlist.com',\n",
       " '@sa-east-1.amazonses.com',\n",
       " '@patiocorina.com.br',\n",
       " '@reseteletronicaindustrial.com.br',\n",
       " '@renatodiasplanner.com.br',\n",
       " '@ltbgrupodobrasil.com.br',\n",
       " '@VITORIABEBIDAS.COM.BR',\n",
       " '@grupozaragoza.com.br',\n",
       " '@cnl.inf.br',\n",
       " '@c3radiologia.com.br',\n",
       " '@ruedigermachry.adv.br',\n",
       " '@basesc.eng.br,patricia',\n",
       " '@engeselt.com.br',\n",
       " '@aliroseguro.com.br',\n",
       " '@WESTFOL.COM.BR',\n",
       " '@mdsolucoes.net.br',\n",
       " '@BASESC.ENG.BR',\n",
       " '@onr.org.br',\n",
       " '@DESCHAMPSCONTAINER.COM.BR',\n",
       " '@BREITKOPF.COM.BR',\n",
       " '@motormac.com.br',\n",
       " '@CONTABILCOMODO.COM.BR',\n",
       " '@yahoo.com.br',\n",
       " '@grupovamos.com.br',\n",
       " '@unixsaude.com.br,raquelmarques',\n",
       " '@unixsaude.com.br,mpanciera',\n",
       " '@retimaq.com.br',\n",
       " '@indalarme.com.br',\n",
       " '@jarspf.jarussi.com.br',\n",
       " '@rentalenergybrasil.com.br',\n",
       " '@konviva.com.br',\n",
       " '@jundia.com.br',\n",
       " '@sanchescontabil.com.br',\n",
       " '@unixsaude.com.br,supervisaocredenciamento',\n",
       " '@noriyuki.com.br',\n",
       " '@ferreiramoveisvr.com.br',\n",
       " '@jucerja.rj.gov.br',\n",
       " '@mariliavalenca.com.br,marilia',\n",
       " '@walmarcontabil.com.br',\n",
       " '@adexim-comexim.com.br',\n",
       " '@qcertificaemail.com.br',\n",
       " '@iqs.com.br',\n",
       " '@sobepart.com.br',\n",
       " '@opiniao.localiza.com',\n",
       " '@nextfleet.com.br',\n",
       " '@unixsaude.com.br,auditoria',\n",
       " '@csbrasilservicos.com.br',\n",
       " '@unixsaude.com.br,gsmedina',\n",
       " '@infolearning.com.br',\n",
       " '@spaceengenharia.eng.br',\n",
       " '@outlookweb.com.br',\n",
       " '@saninternet.com.br',\n",
       " '@unixsaude.com.br,jsferreira',\n",
       " '@lvrcontabilidade.com.br',\n",
       " '@nfs-e.net',\n",
       " '@tecnomec.ind.br',\n",
       " '@redebrasilatual.com.br',\n",
       " '@ekonova.com.br',\n",
       " '@uol.com.br',\n",
       " '@grupoarg.com.br',\n",
       " '@unixsaude.com.br,esoliveira',\n",
       " '@evertis.com',\n",
       " '@legaliconsultoria.net.br',\n",
       " '@GRESSUSSEGUROS.COM.BR',\n",
       " '@mpsp.mp.br',\n",
       " '@parceragro.com.br',\n",
       " '@rentalenergybrasil.com.br,lucinaldo.silva',\n",
       " '@unixsaude.com.br,autorizacao',\n",
       " '@portabilidade2.com.br',\n",
       " '@hotmail.com',\n",
       " '@sesisp.org.br',\n",
       " '@unixsaude.com.br,sccavalcanti',\n",
       " '@emailmkt.brutamarketing.com.br',\n",
       " '@paccini.com.br',\n",
       " '@zenoautopecas.com.br',\n",
       " '@somarcas.com.br',\n",
       " '@emailzimbraonline.com.br',\n",
       " '@unixsaude.com.br,mssantos',\n",
       " '@dclabel.com.br',\n",
       " '@neogrid.com',\n",
       " '@franqueadolinx.com.br',\n",
       " '@junimangueiras.com.br',\n",
       " '@multiturbo.com',\n",
       " '@mariliavalenca.com.br,Atendimento',\n",
       " '@eclipsesilk.com.br',\n",
       " '@BREITKOPF.COM.BR,FINANCEIRO4',\n",
       " '@beyondagenciadigital.com.br',\n",
       " '@DANNIL.COM.BR,VENDAS',\n",
       " '@unixsaude.com.br,acsilva',\n",
       " '@irismonitoramento.com.br',\n",
       " '@holstein.com.br',\n",
       " '@itialho.com.br',\n",
       " '@atmosferamanutencoes.com.br',\n",
       " '@jotform.com',\n",
       " '@arquivei.com.br',\n",
       " '@bhz.jamef.com.br',\n",
       " '@iacda.com.br',\n",
       " '@unixsaude.com.br,artur',\n",
       " '@CASADECARNESARAUJO.COM.BR',\n",
       " '@clubemelissa.com',\n",
       " '@luedtke.com.br',\n",
       " '@unixsaude.com.br,lspereira',\n",
       " '@ia.d.sender-sib.com',\n",
       " '@no-reply.giassi.com.br',\n",
       " '@SMSR.COM.BR,REGINA',\n",
       " '@greaselubrificantes.com.br,vendas',\n",
       " '@stabile.des.br',\n",
       " '@itpartners.com.br',\n",
       " '@emailexchangeonline.com.br',\n",
       " '@smtplw-16.com',\n",
       " '@guiaitajai.com',\n",
       " '@MARILIAVALENCA.COM.BR',\n",
       " '@emailsimpliss.com.br',\n",
       " '@BREITKOPF.COM.BR,seguros2',\n",
       " '@variemaqservicos.com.br',\n",
       " '@5w0pg7g1jvyert5p.kvajt.3z-cexjeai.um1.bnc.salesforce.com',\n",
       " '@luizalves.sc.gov.br',\n",
       " '@caparrozenergia.com.br',\n",
       " '@SANYDOBRASIL.COM.BR',\n",
       " '@tape.com.br',\n",
       " '@bradescoseguros.com.br',\n",
       " '@cuoly.com',\n",
       " '@unixsaude.com.br,csilva',\n",
       " '@relacionamento.logistique.com.br',\n",
       " '@trtsp.jus.br',\n",
       " '@smlpa.com.br',\n",
       " '@libertyseguros.com.br',\n",
       " '@escritoriodaluz.com.br',\n",
       " '@feijaovencedor.com.br',\n",
       " '@supersatcar.com.br',\n",
       " '@docusign.net',\n",
       " '@REVARCONDICIONADO.COM.BR',\n",
       " '@safrabariri.com.br',\n",
       " '@bounces.em.secureserver.net',\n",
       " '@keromax.com.br',\n",
       " '@bounce.novidades.portoseguro.com.br',\n",
       " '@kapdima.com.br',\n",
       " '@fulltimesolucoes.com.br',\n",
       " '@spel.com.br',\n",
       " '@institutofoodservicebrasil.org.br',\n",
       " '@seconci-sp.org.br',\n",
       " '@baterax.com.br',\n",
       " '@BREITKOPF.COM.BR,VW1113',\n",
       " '@attosrh.com.br',\n",
       " '@unixsaude.com.br,faturamento',\n",
       " '@wurth.com.br',\n",
       " '@unixsaude.com.br,gmoliveira',\n",
       " '@ecalc.com.br',\n",
       " '@SANDREFRIO.COM.BR,SANDREFRIO',\n",
       " '@spamwall.com.br',\n",
       " '@linkmonitoramento.com.br',\n",
       " '@matta-one-x.com.br',\n",
       " '@exidata.com.br',\n",
       " '@unixsaude.com.br,ccsantos',\n",
       " '@gressusseguros.com.br,carlos.barros',\n",
       " '@gidion.com.br',\n",
       " '@sulcomm.com.br',\n",
       " '@smtplw-14.com',\n",
       " '@mrv.com.br',\n",
       " '@belenus.com.br',\n",
       " '@GREASEESPECIAL.COM.BR',\n",
       " '@stellantis.com',\n",
       " '@minhaclaro.com.br',\n",
       " '@vianets.com.br',\n",
       " '@dallum.com.br',\n",
       " '@itau-unibanco.com.br',\n",
       " '@Eaton.com',\n",
       " '@breitkopf.com.br,man1301',\n",
       " '@corpus.com.br',\n",
       " '@embavidro.com.br',\n",
       " '@cil.com.br',\n",
       " '@grupomotormac.com.br',\n",
       " '@unixsaude.com.br,jmsantos',\n",
       " '@unixsaude.com.br,credenciamento',\n",
       " '@fwdkim.loupenbrasil.com.br',\n",
       " '@ailos.coop.br',\n",
       " '@zaffari.com.br',\n",
       " '@ingaveiculos.com.br',\n",
       " '@alerts.bounces.google.com',\n",
       " '@outlook.com',\n",
       " '@ficagna.com.br',\n",
       " '@piqueturlog.com.br',\n",
       " '@em9914.tokiomarine.com.br',\n",
       " '@em4838.tokiomarine.com.br',\n",
       " '@CLARENCE.COM.BR',\n",
       " '@abracop-abracit.com.br',\n",
       " '@online.dpaschoal.com.br',\n",
       " '@grupobarigui.com.br',\n",
       " '@theresearchinsights.com',\n",
       " '@bradesco.com.br',\n",
       " '@amfar.com.br',\n",
       " '@sasbrasilcomunicacao.com.br',\n",
       " '@smgrid.pl',\n",
       " '@africori.com',\n",
       " '@perfumariagoya.com.br',\n",
       " '@sinall.com.br',\n",
       " '@2dconstrucoes.com.br',\n",
       " '@HALIPAR.COM.BR',\n",
       " '@detran.sc.gov.br',\n",
       " '@ciamarcas.com.br',\n",
       " '@itau.com.br']"
      ]
     },
     "execution_count": 202,
     "metadata": {},
     "output_type": "execute_result"
    }
   ],
   "source": [
    "error_list"
   ]
  },
  {
   "attachments": {},
   "cell_type": "markdown",
   "metadata": {},
   "source": [
    "### 5 Etapa\n",
    "- Extrair do arquivo organizado os dados a serem mostrado na dashboard"
   ]
  },
  {
   "cell_type": "code",
   "execution_count": 203,
   "metadata": {},
   "outputs": [
    {
     "data": {
      "text/html": [
       "<div>\n",
       "<style scoped>\n",
       "    .dataframe tbody tr th:only-of-type {\n",
       "        vertical-align: middle;\n",
       "    }\n",
       "\n",
       "    .dataframe tbody tr th {\n",
       "        vertical-align: top;\n",
       "    }\n",
       "\n",
       "    .dataframe thead th {\n",
       "        text-align: right;\n",
       "    }\n",
       "</style>\n",
       "<table border=\"1\" class=\"dataframe\">\n",
       "  <thead>\n",
       "    <tr style=\"text-align: right;\">\n",
       "      <th></th>\n",
       "      <th>From</th>\n",
       "      <th>Qtd</th>\n",
       "      <th>Actions</th>\n",
       "    </tr>\n",
       "  </thead>\n",
       "  <tbody>\n",
       "  </tbody>\n",
       "</table>\n",
       "</div>"
      ],
      "text/plain": [
       "Empty DataFrame\n",
       "Columns: [From, Qtd, Actions]\n",
       "Index: []"
      ]
     },
     "execution_count": 203,
     "metadata": {},
     "output_type": "execute_result"
    }
   ],
   "source": [
    "#contas que mais madaram email x ação realizada\n",
    "df_filt = df_all.loc[df_all['To']=='marcelo']\n",
    "serie = df_filt['From'].value_counts()\n",
    "email_series = serie.loc[serie>1].index.to_list()\n",
    "df_from = df_filt.loc[df_filt['From'].isin(email_series)]\n",
    "qtd_series = df_from['From'].value_counts()\n",
    "df_tres = pd.DataFrame({'From': qtd_series.index, 'Qtd': qtd_series.values, 'Actions': df_from.drop_duplicates(subset=['From'])['Action']})\n",
    "df_tres"
   ]
  }
 ],
 "metadata": {
  "kernelspec": {
   "display_name": "venv",
   "language": "python",
   "name": "python3"
  },
  "language_info": {
   "codemirror_mode": {
    "name": "ipython",
    "version": 3
   },
   "file_extension": ".py",
   "mimetype": "text/x-python",
   "name": "python",
   "nbconvert_exporter": "python",
   "pygments_lexer": "ipython3",
   "version": "3.10.4"
  },
  "orig_nbformat": 4
 },
 "nbformat": 4,
 "nbformat_minor": 2
}
