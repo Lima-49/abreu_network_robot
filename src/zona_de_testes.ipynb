{
 "cells": [
  {
   "cell_type": "code",
   "execution_count": 98,
   "metadata": {},
   "outputs": [],
   "source": [
    "import tools as tl\n",
    "from selenium.webdriver.support.select import Select\n",
    "import requests\n",
    "import pandas as pd\n",
    "import configparser\n",
    "import matplotlib.pyplot as plt\n",
    "import datetime"
   ]
  },
  {
   "cell_type": "code",
   "execution_count": 99,
   "metadata": {},
   "outputs": [],
   "source": [
    "def get_config_data(**kwargs):\n",
    "    \"\"\"\n",
    "    This function reads a configuration file and returns the value of a specified field.\n",
    "    \n",
    "    :param path: The path to the configuration file that needs to be read\n",
    "    :return: the data from the specified field and value in the configuration file located at the\n",
    "    specified path.\n",
    "    \"\"\"\n",
    "    #Abrindo o arquivo de configurações\n",
    "    arq = configparser.RawConfigParser()\n",
    "    arq.read(r'C:\\Users\\Vitor Augusto\\Documents\\Programas\\abreu_network_robot\\config.txt')\n",
    "\n",
    "    #Pegando os dados do arquivo\n",
    "    data = arq.get(kwargs['field'], kwargs['value'])\n",
    "\n",
    "    return data\n"
   ]
  },
  {
   "cell_type": "code",
   "execution_count": 100,
   "metadata": {},
   "outputs": [],
   "source": [
    "# Função para substituir os emails pelo nome do cliente\n",
    "def replace_emails_with_names(email, customer_dict):\n",
    "    \n",
    "    for name, emails in customer_dict.items():\n",
    "        if (email.lower() in [em.lower() for em in emails]):\n",
    "            return name\n",
    "    return email"
   ]
  },
  {
   "cell_type": "code",
   "execution_count": 101,
   "metadata": {},
   "outputs": [],
   "source": [
    "def create_customer_dict(customers_list, df_all):\n",
    "    customer_dict = {}\n",
    "\n",
    "    for customer in customers_list: \n",
    "        df_filt = df_all.loc[df_all['To'].str.contains(customer)]\n",
    "        customer_dict[customer] = df_filt['To'].value_counts().index.to_list()\n",
    "        #df_filt.to_excel(f'{OUTPUT_PATH}\\{customer}.xlsx', index=False)\n",
    "    \n",
    "    return customer_dict"
   ]
  },
  {
   "cell_type": "code",
   "execution_count": 102,
   "metadata": {},
   "outputs": [],
   "source": [
    "def replace_custom_names(customer_names):\n",
    "    diff_custom = {\n",
    "        'aguia':'aguiasecuritizadora',\n",
    "        'bombinhassummer':'bombinhassummerbeach', \n",
    "        'dutoclean': 'dutocleanbauru',\n",
    "        'fabricenter': 'fabricenter470',\n",
    "        'fazcomunicacao': 'fazcomunicacaovisual',\n",
    "        'galli': 'galliatacadista',\n",
    "        'impacto': 'impactoesports',\n",
    "        'jcleletronica': 'jcleletronicaindustrial',\n",
    "        'mailinspector': 'filter.mailinspector',\n",
    "        'plantfort': 'plantfortfertil',\n",
    "        'primedigital': 'primemidiadigital',\n",
    "        'quinta': 'quintadonino',\n",
    "        'raysolar': 'raysolarbrasil',\n",
    "        'reset': 'resetmairinque',\n",
    "        'revar': 'revarcondicionado',\n",
    "        'rodoflex': 'rodoflexpneus',\n",
    "        'sany': 'sanydobrasil',\n",
    "        'supernagai': 'supermercadosnagai',\n",
    "        'agrotecagro': 'agrotecagroquimica',\n",
    "        'barulhinhobomchips': 'barulhinhobom',\n",
    "        'marcospaulo': 'marcospauloimoveis',\n",
    "        'cortedobra': 'cortedobraseguranca',\n",
    "        'ortobaby': 'ortobabycalcados',\n",
    "        'arinteli': 'arinteligenciatributaria',\n",
    "    }   \n",
    "\n",
    "    for diff_name in diff_custom.keys():\n",
    "        list_index = customer_names.index(diff_name)\n",
    "        customer_names[list_index] = diff_custom[diff_name]\n",
    "    \n",
    "    return customer_names"
   ]
  },
  {
   "cell_type": "code",
   "execution_count": 103,
   "metadata": {},
   "outputs": [],
   "source": [
    "diff_custom = {\n",
    "    'aguia':'aguiasecuritizadora',\n",
    "    'bombinhassummer':'bombinhassummerbeach', \n",
    "    'dutoclean': 'dutocleanbauru',\n",
    "    'fabricenter': 'fabricenter470',\n",
    "    'fazcomunicacao': 'fazcomunicacaovisual',\n",
    "    'galli': 'galliatacadista',\n",
    "    'impacto': 'impactoesports',\n",
    "    'jcleletronica': 'jcleletronicaindustrial',\n",
    "    'mailinspector': 'filter.mailinspector',\n",
    "    'plantfort': 'plantfortfertil',\n",
    "    'primedigital': 'primemidiadigital',\n",
    "    'quinta': 'quintadonino',\n",
    "    'raysolar': 'raysolarbrasil',\n",
    "    'reset': 'resetmairinque',\n",
    "    'revar': 'revarcondicionado',\n",
    "    'rodoflex': 'rodoflexpneus',\n",
    "    'sany': 'sanydobrasil',\n",
    "    'supernagai': 'supermercadosnagai',\n",
    "    'agrotecagro': 'agrotecagroquimica',\n",
    "    'barulhinhobomchips': 'barulhinhobom',\n",
    "    'marcospaulo': 'marcospauloimoveis',\n",
    "    'cortedobra': 'cortedobraseguranca',\n",
    "    'ortobaby': 'ortobabycalcados',\n",
    "    'arinteli': 'arinteligenciatributaria',\n",
    "    \n",
    "}\n"
   ]
  },
  {
   "cell_type": "code",
   "execution_count": 104,
   "metadata": {},
   "outputs": [],
   "source": [
    "def get_config_data(path, **kwargs):\n",
    "    \n",
    "    #Abrindo o arquivo de configurações\n",
    "    arq = configparser.RawConfigParser()\n",
    "    arq.read(path)\n",
    "    \n",
    "    #Pegando os dados do arquivo\n",
    "    data = arq.get(kwargs['field'], kwargs['value'])\n",
    "    \n",
    "    return data"
   ]
  },
  {
   "cell_type": "code",
   "execution_count": 105,
   "metadata": {},
   "outputs": [],
   "source": [
    "def replace_numeric_chars(string):\n",
    "    replacements = {'0': 'o', '1': 'i', '3': 'e', '4': 'a', '5': 's', '7': 't', '8': 'b'}\n",
    "    for char, replacement in replacements.items():\n",
    "        if string not in ['5stintas','c3']:\n",
    "            string = string.replace(char, replacement)\n",
    "    return string"
   ]
  },
  {
   "cell_type": "code",
   "execution_count": 106,
   "metadata": {},
   "outputs": [],
   "source": [
    "def format_date_api():\n",
    "    \"\"\"\n",
    "    This Python function formats the current date and the next day's date in a specific\n",
    "    format for use\n",
    "    in an API.\n",
    "    :return: a tuple with two strings: the current date formatted as \"mm/dd/yyyy\" and the next day's\n",
    "    date formatted as \"mm/dd/yyyy\", both with the forward slash replaced by \"-\".\n",
    "    \"\"\"\n",
    "\n",
    "    # Obtém a data atual\n",
    "    data_atual = datetime.date.today()\n",
    "    data_atual_formatada = data_atual.strftime(\"%m-%d-%Y\")\n",
    "    data_atual_formatada = data_atual_formatada.replace('-', '%2F')\n",
    "\n",
    "    # Adiciona um dia\n",
    "    data_nova = data_atual + datetime.timedelta(days=1)\n",
    "    data_nova_formatada = data_nova.strftime(\"%m-%d-%Y\")\n",
    "    data_nova_formatada = data_nova_formatada.replace('-', '%2F')\n",
    "    return data_atual_formatada, data_nova_formatada\n"
   ]
  },
  {
   "cell_type": "code",
   "execution_count": 107,
   "metadata": {},
   "outputs": [],
   "source": [
    "URL = 'https://filter.mailinspector.com.br/login/index.php'\n",
    "API_URL = 'https://filter.mailinspector.com.br/login/mailLogViewer.php'\n",
    "OUTPUT_PATH = r'C:\\Users\\Vitor Augusto\\Documents\\Programas\\abreu_network_robot\\files'\n",
    "user ='admin'\n",
    "senha = 'N6wq@Ks72'"
   ]
  },
  {
   "cell_type": "code",
   "execution_count": 108,
   "metadata": {},
   "outputs": [
    {
     "name": "stdout",
     "output_type": "stream",
     "text": [
      "Limpando arquivos gerais\n",
      "customers_emails.xlsx removido com sucesso.\n",
      "log_view.csv removido com sucesso.\n",
      "log_view.txt removido com sucesso.\n",
      "original.csv removido com sucesso.\n"
     ]
    }
   ],
   "source": [
    "tl.clean_dir(OUTPUT_PATH)"
   ]
  },
  {
   "attachments": {},
   "cell_type": "markdown",
   "metadata": {},
   "source": [
    "### 1 Etapa\n",
    "\n",
    "- Acessar o portal\n",
    "- Salvar a lista de clientes \n",
    "- Salvar os cookies para passar na API"
   ]
  },
  {
   "cell_type": "code",
   "execution_count": 109,
   "metadata": {},
   "outputs": [],
   "source": [
    "driver = tl.create_driver(headless=False)\n",
    "driver.get(URL)"
   ]
  },
  {
   "cell_type": "code",
   "execution_count": 110,
   "metadata": {},
   "outputs": [
    {
     "name": "stdout",
     "output_type": "stream",
     "text": [
      ">>>Sucesso clicando em login>>>\n",
      ">>>Sucesso passando o user>>>\n",
      ">>>Sucesso clicando em senha>>>\n",
      ">>>Sucesso passando a senha>>>\n",
      ">>>Sucesso clicando no botao login>>>\n"
     ]
    }
   ],
   "source": [
    "tl.clicking(element='clicando em login', path='email', by='name', driver=driver).click()\n",
    "tl.clicking(element='passando o user', path='email', by='name', driver=driver).send_keys(user)\n",
    "\n",
    "tl.clicking(element='clicando em senha', path='password', by='name', driver=driver).click()\n",
    "tl.clicking(element='passando a senha', path='password', by='name', driver=driver).send_keys(senha)\n",
    "\n",
    "tl.clicking(element='clicando no botao login', path=\"//input[@type='submit']\", driver=driver).click()"
   ]
  },
  {
   "cell_type": "code",
   "execution_count": 111,
   "metadata": {},
   "outputs": [
    {
     "name": "stdout",
     "output_type": "stream",
     "text": [
      ">>>Sucesso Selecionando Linked Accounts>>>\n"
     ]
    }
   ],
   "source": [
    "tl.clicking(element='Selecionando Linked Accounts', path=\"//*[text()='Linked Accounts']\", driver=driver).click() "
   ]
  },
  {
   "cell_type": "code",
   "execution_count": 112,
   "metadata": {},
   "outputs": [
    {
     "name": "stdout",
     "output_type": "stream",
     "text": [
      ">>>Sucesso selecionando o selector com todos os clientes>>>\n"
     ]
    }
   ],
   "source": [
    "drop_down = tl.clicking(element='selecionando o selector com todos os clientes', path='hijackName', by='name', driver=driver)\n",
    "drop_down_obj = Select(drop_down)"
   ]
  },
  {
   "cell_type": "code",
   "execution_count": 113,
   "metadata": {},
   "outputs": [],
   "source": [
    "customers_list = [opt.text for opt in drop_down_obj.options]\n",
    "customers_list.pop(0)\n",
    "customers_list = [em.lower() for em in customers_list]\n",
    "customers_list = list(map(lambda char: replace_numeric_chars(char), customers_list))\n",
    "customers_list = replace_custom_names(customers_list)"
   ]
  },
  {
   "cell_type": "code",
   "execution_count": 114,
   "metadata": {},
   "outputs": [],
   "source": [
    "cookies = tl.get_cookies(driver)"
   ]
  },
  {
   "cell_type": "code",
   "execution_count": 115,
   "metadata": {},
   "outputs": [],
   "source": [
    "driver.quit()"
   ]
  },
  {
   "attachments": {},
   "cell_type": "markdown",
   "metadata": {},
   "source": [
    "### 2 Etapa\n",
    "- Configurar os paramentros da API\n",
    "- Acessar os reports dos clientes via API\n",
    "- salvar como arquivo csv para facilitar a modelagem"
   ]
  },
  {
   "cell_type": "code",
   "execution_count": 116,
   "metadata": {},
   "outputs": [],
   "source": [
    "headersList = {\n",
    " \"Cookie\": f\"PHPSESSID={cookies['PHPSESSID']}; lang=pt_BR\",\n",
    " \"Referer\": \"https://filter.mailinspector.com.br/login/mailLogViewer.php\", \n",
    "}\n",
    "\n",
    "#formatando as datas para passar na API\n",
    "dia_atual, proximo_dia = format_date_api()\n",
    "\n",
    "#Requisição na api para baixar os dados dos clientes\n",
    "response = requests.get(API_URL+f'?from={dia_atual}&to={proximo_dia}&page=-1',\n",
    "                        headers=headersList,\n",
    "                        timeout=100)\n",
    "\n",
    "result = response.text"
   ]
  },
  {
   "cell_type": "code",
   "execution_count": 117,
   "metadata": {},
   "outputs": [],
   "source": [
    "with open(f'{OUTPUT_PATH}\\log_view.txt', 'w') as f:\n",
    "    f.write(result)"
   ]
  },
  {
   "cell_type": "code",
   "execution_count": 118,
   "metadata": {},
   "outputs": [
    {
     "data": {
      "text/html": [
       "<div>\n",
       "<style scoped>\n",
       "    .dataframe tbody tr th:only-of-type {\n",
       "        vertical-align: middle;\n",
       "    }\n",
       "\n",
       "    .dataframe tbody tr th {\n",
       "        vertical-align: top;\n",
       "    }\n",
       "\n",
       "    .dataframe thead th {\n",
       "        text-align: right;\n",
       "    }\n",
       "</style>\n",
       "<table border=\"1\" class=\"dataframe\">\n",
       "  <thead>\n",
       "    <tr style=\"text-align: right;\">\n",
       "      <th></th>\n",
       "      <th>Date</th>\n",
       "      <th>From</th>\n",
       "      <th>To</th>\n",
       "      <th>Subject</th>\n",
       "      <th>Action</th>\n",
       "      <th>Score</th>\n",
       "      <th>Source IP</th>\n",
       "    </tr>\n",
       "  </thead>\n",
       "  <tbody>\n",
       "    <tr>\n",
       "      <th>0</th>\n",
       "      <td>2023-06-05 13:30:21</td>\n",
       "      <td>bounces+29802935-5413-vendas=dannil.com.br@ven...</td>\n",
       "      <td>vendas@dannil.com.br</td>\n",
       "      <td>NaN</td>\n",
       "      <td>Blacklisted</td>\n",
       "      <td>NaN</td>\n",
       "      <td>149.72.251.71</td>\n",
       "    </tr>\n",
       "    <tr>\n",
       "      <th>1</th>\n",
       "      <td>2023-06-05 13:30:21</td>\n",
       "      <td>mercadow.naoresponda@campti.com.br</td>\n",
       "      <td>mventura@halipar.com.br</td>\n",
       "      <td>=?iso-8859-1?Q?=5BN=C3O_RESPONDER=5D_WFoodServ...</td>\n",
       "      <td>Sent</td>\n",
       "      <td>NaN</td>\n",
       "      <td>200.147.35.74</td>\n",
       "    </tr>\n",
       "    <tr>\n",
       "      <th>2</th>\n",
       "      <td>2023-06-05 13:30:20</td>\n",
       "      <td>bounces+1637675-8ed0-andre=smsr.com.br@emailmk...</td>\n",
       "      <td>andre@smsr.com.br</td>\n",
       "      <td>Case Supernosso: como o grupo =?UTF-8?B?YWxjYW...</td>\n",
       "      <td>Sent</td>\n",
       "      <td>-2.265</td>\n",
       "      <td>216.55.103.238</td>\n",
       "    </tr>\n",
       "    <tr>\n",
       "      <th>3</th>\n",
       "      <td>2023-06-05 13:30:19</td>\n",
       "      <td>bounces+1637675-49f4-tony=smsr.com.br@emailmkt...</td>\n",
       "      <td>tony@smsr.com.br</td>\n",
       "      <td>Case Supernosso: como o grupo =?UTF-8?B?YWxjYW...</td>\n",
       "      <td>Sent</td>\n",
       "      <td>-2.598</td>\n",
       "      <td>216.55.103.238</td>\n",
       "    </tr>\n",
       "    <tr>\n",
       "      <th>4</th>\n",
       "      <td>2023-06-05 13:30:19</td>\n",
       "      <td>bounces+1637675-8ed0-andre=smsr.com.br@emailmk...</td>\n",
       "      <td>andre@smsr.com.br</td>\n",
       "      <td>Case Supernosso: como o grupo =?UTF-8?B?YWxjYW...</td>\n",
       "      <td>Sent</td>\n",
       "      <td>NaN</td>\n",
       "      <td>149.72.215.70</td>\n",
       "    </tr>\n",
       "  </tbody>\n",
       "</table>\n",
       "</div>"
      ],
      "text/plain": [
       "                  Date                                               From   \n",
       "0  2023-06-05 13:30:21  bounces+29802935-5413-vendas=dannil.com.br@ven...  \\\n",
       "1  2023-06-05 13:30:21                 mercadow.naoresponda@campti.com.br   \n",
       "2  2023-06-05 13:30:20  bounces+1637675-8ed0-andre=smsr.com.br@emailmk...   \n",
       "3  2023-06-05 13:30:19  bounces+1637675-49f4-tony=smsr.com.br@emailmkt...   \n",
       "4  2023-06-05 13:30:19  bounces+1637675-8ed0-andre=smsr.com.br@emailmk...   \n",
       "\n",
       "                        To                                            Subject   \n",
       "0     vendas@dannil.com.br                                                NaN  \\\n",
       "1  mventura@halipar.com.br  =?iso-8859-1?Q?=5BN=C3O_RESPONDER=5D_WFoodServ...   \n",
       "2        andre@smsr.com.br  Case Supernosso: como o grupo =?UTF-8?B?YWxjYW...   \n",
       "3         tony@smsr.com.br  Case Supernosso: como o grupo =?UTF-8?B?YWxjYW...   \n",
       "4        andre@smsr.com.br  Case Supernosso: como o grupo =?UTF-8?B?YWxjYW...   \n",
       "\n",
       "        Action  Score       Source IP  \n",
       "0  Blacklisted    NaN   149.72.251.71  \n",
       "1         Sent    NaN   200.147.35.74  \n",
       "2         Sent -2.265  216.55.103.238  \n",
       "3         Sent -2.598  216.55.103.238  \n",
       "4         Sent    NaN   149.72.215.70  "
      ]
     },
     "execution_count": 118,
     "metadata": {},
     "output_type": "execute_result"
    }
   ],
   "source": [
    "df = pd.read_csv(f'{OUTPUT_PATH}\\log_view.txt')\n",
    "df.to_csv(f'{OUTPUT_PATH}\\original.csv', index=False, sep=',')\n",
    "df.head()"
   ]
  },
  {
   "attachments": {},
   "cell_type": "markdown",
   "metadata": {},
   "source": [
    "### 4 Etapa\n",
    "- Organizar o arquivo extraido da API\n",
    "- Alterar a coluna 'To' que são os emails, para os nomes dos clientes"
   ]
  },
  {
   "cell_type": "code",
   "execution_count": 119,
   "metadata": {},
   "outputs": [],
   "source": [
    "customer_dict = {}\n",
    "for customer in customers_list:\n",
    "    customer_dict[customer] = [email for email in df['To'] if (email.endswith('@'+customer.lower()+'.com.br')) or (email.endswith('@'+customer.lower()+'.com'))]"
   ]
  },
  {
   "cell_type": "code",
   "execution_count": 120,
   "metadata": {},
   "outputs": [],
   "source": [
    "#customer_dict = create_customer_dict(customers_list, df)\n",
    "df_customer = pd.DataFrame({\"Cliente\":list(customer_dict.keys()),\n",
    "                            \"Emails\":list(customer_dict.values())})\n",
    "\n",
    "df_customer.to_excel(f'{OUTPUT_PATH}\\customers_emails.xlsx', index=False)"
   ]
  },
  {
   "cell_type": "code",
   "execution_count": 121,
   "metadata": {},
   "outputs": [
    {
     "data": {
      "text/html": [
       "<div>\n",
       "<style scoped>\n",
       "    .dataframe tbody tr th:only-of-type {\n",
       "        vertical-align: middle;\n",
       "    }\n",
       "\n",
       "    .dataframe tbody tr th {\n",
       "        vertical-align: top;\n",
       "    }\n",
       "\n",
       "    .dataframe thead th {\n",
       "        text-align: right;\n",
       "    }\n",
       "</style>\n",
       "<table border=\"1\" class=\"dataframe\">\n",
       "  <thead>\n",
       "    <tr style=\"text-align: right;\">\n",
       "      <th></th>\n",
       "      <th>Cliente</th>\n",
       "      <th>Emails</th>\n",
       "    </tr>\n",
       "  </thead>\n",
       "  <tbody>\n",
       "    <tr>\n",
       "      <th>0</th>\n",
       "      <td>5stintas</td>\n",
       "      <td>[sandra@5stintas.com.br, sama@5stintas.com.br,...</td>\n",
       "    </tr>\n",
       "    <tr>\n",
       "      <th>1</th>\n",
       "      <td>abreuhost</td>\n",
       "      <td>[gilson@abreuhost.com.br, atendimento@abreuhos...</td>\n",
       "    </tr>\n",
       "    <tr>\n",
       "      <th>2</th>\n",
       "      <td>abreunetworks</td>\n",
       "      <td>[gilson@abreunetworks.com.br, gilson@abreunetw...</td>\n",
       "    </tr>\n",
       "    <tr>\n",
       "      <th>3</th>\n",
       "      <td>abreuweb</td>\n",
       "      <td>[]</td>\n",
       "    </tr>\n",
       "    <tr>\n",
       "      <th>4</th>\n",
       "      <td>adhering</td>\n",
       "      <td>[marketing@adhering.com.br, marketing@adhering...</td>\n",
       "    </tr>\n",
       "    <tr>\n",
       "      <th>...</th>\n",
       "      <td>...</td>\n",
       "      <td>...</td>\n",
       "    </tr>\n",
       "    <tr>\n",
       "      <th>298</th>\n",
       "      <td>votocont</td>\n",
       "      <td>[]</td>\n",
       "    </tr>\n",
       "    <tr>\n",
       "      <th>299</th>\n",
       "      <td>westfol</td>\n",
       "      <td>[madalena@westfol.com.br, madalena@westfol.com...</td>\n",
       "    </tr>\n",
       "    <tr>\n",
       "      <th>300</th>\n",
       "      <td>zapplin</td>\n",
       "      <td>[]</td>\n",
       "    </tr>\n",
       "    <tr>\n",
       "      <th>301</th>\n",
       "      <td>zigues</td>\n",
       "      <td>[]</td>\n",
       "    </tr>\n",
       "    <tr>\n",
       "      <th>302</th>\n",
       "      <td>zltecnologia</td>\n",
       "      <td>[contato@zltecnologia.com.br, contato@zltecnol...</td>\n",
       "    </tr>\n",
       "  </tbody>\n",
       "</table>\n",
       "<p>303 rows × 2 columns</p>\n",
       "</div>"
      ],
      "text/plain": [
       "           Cliente                                             Emails\n",
       "0         5stintas  [sandra@5stintas.com.br, sama@5stintas.com.br,...\n",
       "1        abreuhost  [gilson@abreuhost.com.br, atendimento@abreuhos...\n",
       "2    abreunetworks  [gilson@abreunetworks.com.br, gilson@abreunetw...\n",
       "3         abreuweb                                                 []\n",
       "4         adhering  [marketing@adhering.com.br, marketing@adhering...\n",
       "..             ...                                                ...\n",
       "298       votocont                                                 []\n",
       "299        westfol  [madalena@westfol.com.br, madalena@westfol.com...\n",
       "300        zapplin                                                 []\n",
       "301         zigues                                                 []\n",
       "302   zltecnologia  [contato@zltecnologia.com.br, contato@zltecnol...\n",
       "\n",
       "[303 rows x 2 columns]"
      ]
     },
     "execution_count": 121,
     "metadata": {},
     "output_type": "execute_result"
    }
   ],
   "source": [
    "df_customer"
   ]
  },
  {
   "cell_type": "code",
   "execution_count": 122,
   "metadata": {},
   "outputs": [
    {
     "data": {
      "text/html": [
       "<div>\n",
       "<style scoped>\n",
       "    .dataframe tbody tr th:only-of-type {\n",
       "        vertical-align: middle;\n",
       "    }\n",
       "\n",
       "    .dataframe tbody tr th {\n",
       "        vertical-align: top;\n",
       "    }\n",
       "\n",
       "    .dataframe thead th {\n",
       "        text-align: right;\n",
       "    }\n",
       "</style>\n",
       "<table border=\"1\" class=\"dataframe\">\n",
       "  <thead>\n",
       "    <tr style=\"text-align: right;\">\n",
       "      <th></th>\n",
       "      <th>Date</th>\n",
       "      <th>From</th>\n",
       "      <th>To</th>\n",
       "      <th>Action</th>\n",
       "    </tr>\n",
       "  </thead>\n",
       "  <tbody>\n",
       "    <tr>\n",
       "      <th>0</th>\n",
       "      <td>2023-06-05 13:30:21</td>\n",
       "      <td>bounces+29802935-5413-vendas=dannil.com.br@ven...</td>\n",
       "      <td>dannil</td>\n",
       "      <td>Blacklisted</td>\n",
       "    </tr>\n",
       "    <tr>\n",
       "      <th>1</th>\n",
       "      <td>2023-06-05 13:30:21</td>\n",
       "      <td>mercadow.naoresponda@campti.com.br</td>\n",
       "      <td>halipar</td>\n",
       "      <td>Sent</td>\n",
       "    </tr>\n",
       "    <tr>\n",
       "      <th>2</th>\n",
       "      <td>2023-06-05 13:30:20</td>\n",
       "      <td>bounces+1637675-8ed0-andre=smsr.com.br@emailmk...</td>\n",
       "      <td>smsr</td>\n",
       "      <td>Sent</td>\n",
       "    </tr>\n",
       "    <tr>\n",
       "      <th>3</th>\n",
       "      <td>2023-06-05 13:30:19</td>\n",
       "      <td>bounces+1637675-49f4-tony=smsr.com.br@emailmkt...</td>\n",
       "      <td>smsr</td>\n",
       "      <td>Sent</td>\n",
       "    </tr>\n",
       "    <tr>\n",
       "      <th>4</th>\n",
       "      <td>2023-06-05 13:30:19</td>\n",
       "      <td>bounces+1637675-8ed0-andre=smsr.com.br@emailmk...</td>\n",
       "      <td>smsr</td>\n",
       "      <td>Sent</td>\n",
       "    </tr>\n",
       "  </tbody>\n",
       "</table>\n",
       "</div>"
      ],
      "text/plain": [
       "                  Date                                               From   \n",
       "0  2023-06-05 13:30:21  bounces+29802935-5413-vendas=dannil.com.br@ven...  \\\n",
       "1  2023-06-05 13:30:21                 mercadow.naoresponda@campti.com.br   \n",
       "2  2023-06-05 13:30:20  bounces+1637675-8ed0-andre=smsr.com.br@emailmk...   \n",
       "3  2023-06-05 13:30:19  bounces+1637675-49f4-tony=smsr.com.br@emailmkt...   \n",
       "4  2023-06-05 13:30:19  bounces+1637675-8ed0-andre=smsr.com.br@emailmk...   \n",
       "\n",
       "        To       Action  \n",
       "0   dannil  Blacklisted  \n",
       "1  halipar         Sent  \n",
       "2     smsr         Sent  \n",
       "3     smsr         Sent  \n",
       "4     smsr         Sent  "
      ]
     },
     "execution_count": 122,
     "metadata": {},
     "output_type": "execute_result"
    }
   ],
   "source": [
    "df_all = pd.DataFrame({'Date': df['Date'], \n",
    "                       'From':df['From'], \n",
    "                       'To': df['To'].apply(replace_emails_with_names, customer_dict=customer_dict), \n",
    "                       'Action': df['Action']})\n",
    "df_all.head()"
   ]
  },
  {
   "cell_type": "code",
   "execution_count": 123,
   "metadata": {},
   "outputs": [],
   "source": [
    "df_all.to_csv(f'{OUTPUT_PATH}\\log_view.csv', sep=',', index=False)"
   ]
  },
  {
   "attachments": {},
   "cell_type": "markdown",
   "metadata": {},
   "source": [
    "### 5 Etapa\n",
    "- Extrair do arquivo organizado os dados a serem mostrado na dashboard"
   ]
  },
  {
   "cell_type": "code",
   "execution_count": 130,
   "metadata": {},
   "outputs": [
    {
     "data": {
      "text/plain": [
       "Action\n",
       "Sent            236\n",
       "Rejected         40\n",
       "Blacklisted      15\n",
       "Blocked SPAM      5\n",
       "Bounced           1\n",
       "Name: count, dtype: int64"
      ]
     },
     "execution_count": 130,
     "metadata": {},
     "output_type": "execute_result"
    }
   ],
   "source": [
    "#quantidade de emaisl por acao realizada\n",
    "df_filt = df_all.loc[df_all['To']=='dannil']\n",
    "df_filt['Action'].value_counts()"
   ]
  },
  {
   "cell_type": "code",
   "execution_count": 127,
   "metadata": {},
   "outputs": [
    {
     "data": {
      "text/html": [
       "<div>\n",
       "<style scoped>\n",
       "    .dataframe tbody tr th:only-of-type {\n",
       "        vertical-align: middle;\n",
       "    }\n",
       "\n",
       "    .dataframe tbody tr th {\n",
       "        vertical-align: top;\n",
       "    }\n",
       "\n",
       "    .dataframe thead th {\n",
       "        text-align: right;\n",
       "    }\n",
       "</style>\n",
       "<table border=\"1\" class=\"dataframe\">\n",
       "  <thead>\n",
       "    <tr style=\"text-align: right;\">\n",
       "      <th></th>\n",
       "      <th>From</th>\n",
       "      <th>Qtd</th>\n",
       "      <th>Actions</th>\n",
       "    </tr>\n",
       "  </thead>\n",
       "  <tbody>\n",
       "  </tbody>\n",
       "</table>\n",
       "</div>"
      ],
      "text/plain": [
       "Empty DataFrame\n",
       "Columns: [From, Qtd, Actions]\n",
       "Index: []"
      ]
     },
     "execution_count": 127,
     "metadata": {},
     "output_type": "execute_result"
    }
   ],
   "source": [
    "#contas que mais madaram email x ação realizada\n",
    "df_filt = df_all.loc[df_all['To']=='marcelo']\n",
    "serie = df_filt['From'].value_counts()\n",
    "email_series = serie.loc[serie>1].index.to_list()\n",
    "df_from = df_filt.loc[df_filt['From'].isin(email_series)]\n",
    "qtd_series = df_from['From'].value_counts()\n",
    "df_tres = pd.DataFrame({'From': qtd_series.index, 'Qtd': qtd_series.values, 'Actions': df_from.drop_duplicates(subset=['From'])['Action']})\n",
    "df_tres"
   ]
  },
  {
   "attachments": {},
   "cell_type": "markdown",
   "metadata": {},
   "source": [
    "### ZONA DE TESTES E AJUSTES"
   ]
  },
  {
   "cell_type": "code",
   "execution_count": 124,
   "metadata": {},
   "outputs": [
    {
     "data": {
      "text/plain": [
       "To\n",
       "central@casadecarnesaraujo.com.br    419\n",
       "advogada@viviane.adv.br               61\n",
       "vendas@greaselubrificantes.com.br     28\n",
       "shopee@lardasfitas.com.br             28\n",
       "administracao@c3radiologia.com.br     27\n",
       "                                    ... \n",
       "gdawg2@hotmail.com                     1\n",
       "alex-raw154@hotmail.com                1\n",
       "robertgreenall@hotmail.com             1\n",
       "big_brook94@yahoo.com                  1\n",
       "bentleytg15@yahoo.com                  1\n",
       "Name: count, Length: 442, dtype: int64"
      ]
     },
     "execution_count": 124,
     "metadata": {},
     "output_type": "execute_result"
    }
   ],
   "source": [
    "df_errados = df_all.loc[df_all['To'].str.contains('@')]\n",
    "df_errados['To'].value_counts()"
   ]
  },
  {
   "cell_type": "code",
   "execution_count": 125,
   "metadata": {},
   "outputs": [],
   "source": [
    "error_list = []\n",
    "\n",
    "for cust in df_errados['To'].drop_duplicates():\n",
    "    split_str = cust.split('@')[1]\n",
    "    if \"@\"+split_str not in error_list:\n",
    "        error_list.append(\"@\"+split_str)"
   ]
  },
  {
   "cell_type": "code",
   "execution_count": 126,
   "metadata": {},
   "outputs": [
    {
     "data": {
      "text/plain": [
       "['@pirosolucoes.com.br',\n",
       " '@reseteletronicaindustrial.com.br',\n",
       " '@viviane.adv.br',\n",
       " '@gressusseguros.com.br',\n",
       " '@lardasfitas.com.br',\n",
       " '@basesc.eng.br',\n",
       " '@busscar.com.br',\n",
       " '@c3radiologia.com.br',\n",
       " '@stabile.des.br',\n",
       " '@eletricamav.com.br',\n",
       " '@greaselubrificantes.com.br',\n",
       " '@VIVIANE.ADV.BR',\n",
       " '@renatodiasplanner.com.br',\n",
       " '@tecnomec.ind.br',\n",
       " '@em242.xpi.com.br',\n",
       " '@otto.ind.br',\n",
       " '@equipe.locaweb.com.br',\n",
       " '@cralmeida.com.br',\n",
       " '@rentalenergybrasil.com.br',\n",
       " '@CASADECARNESARAUJO.COM.BR',\n",
       " '@valius.com.br',\n",
       " '@GREASELUBRIFICANTES.COM.BR',\n",
       " '@mdsolucoes.net.br',\n",
       " '@spconexoes.com.br',\n",
       " '@GRESSUSSEGUROS.COM.BR',\n",
       " '@gmail.com',\n",
       " '@smtplw-15.com',\n",
       " '@supermercadosparana.com.br',\n",
       " '@duffles.net.br',\n",
       " '@renovaagroibitinga.com.br',\n",
       " '@stellantis.com',\n",
       " '@grupovamos.com.br',\n",
       " '@CSIMONTAGENS.COM.BR',\n",
       " '@envios.suprimax.com.br',\n",
       " '@wayupbrasil.com',\n",
       " '@patiocorina.com.br',\n",
       " '@apmeridional.com.br',\n",
       " '@basesc.eng.br,engenharia1',\n",
       " '@greaseespecial.com.br',\n",
       " '@leledacuca.com.br',\n",
       " '@casadecarnesaraujo.com.br',\n",
       " '@gressusseguros.com.br,carlos.barros',\n",
       " '@lzkymr813049v1.41-2elapeak.na75.bnc.salesforce.com',\n",
       " '@cartoriodemairinque.com.br',\n",
       " '@fluidflex.com.br',\n",
       " '@facebookmail.com',\n",
       " '@mextrametal.com.br',\n",
       " '@nethall.com.br',\n",
       " '@news.tur.br',\n",
       " '@elder-th.eti.br',\n",
       " '@airasaude.app.br',\n",
       " '@uol.com.br',\n",
       " '@rampfy.com',\n",
       " '@hotmail.com',\n",
       " '@greaselubrificantes.com.br,vendas',\n",
       " '@SMSR.COM.BR,SOLICITACAODEDESPESAS',\n",
       " '@deschampscontainer.com.br',\n",
       " '@DANLUZ.COM.BR',\n",
       " '@email.apple.com',\n",
       " '@iti.itau',\n",
       " '@ruedigermachry.adv.br',\n",
       " '@basesc.eng.br,engenharia2',\n",
       " '@metahigiene.com.br',\n",
       " '@SMSR.COM.BR',\n",
       " '@linkmonitoramento.com.br',\n",
       " '@csimontagens.COM.br,elieser.fernandes',\n",
       " '@licitec.com.br',\n",
       " '@noriyuki.com.br',\n",
       " '@admcond.com.br',\n",
       " '@grupoolam.com.br',\n",
       " '@agricopel.com.br',\n",
       " '@skiparque.com.br',\n",
       " '@bitrix24.net',\n",
       " '@basesc.eng.br,guilherme',\n",
       " '@razek.com.br',\n",
       " '@no-reply.giassi.com.br',\n",
       " '@calendar-server.bounces.google.com',\n",
       " '@yahoo.com',\n",
       " '@nrtreinamentos.com.br',\n",
       " '@enerpacdurazzo.com.br',\n",
       " '@b2binsightpro.com',\n",
       " '@em9914.tokiomarine.com.br',\n",
       " '@walmarcontabil.com.br',\n",
       " '@fibrilar.com.br',\n",
       " '@oggiimport.com.br',\n",
       " '@novaeverest.com.br',\n",
       " '@GREASEESPECIAL.COM.BR',\n",
       " '@grupomotormac.com.br',\n",
       " '@cdlitajai.com.br',\n",
       " '@spaceengenharia.eng.br',\n",
       " '@mjbcont.com.br',\n",
       " '@perina-pack.com',\n",
       " '@alerts.bounces.google.com',\n",
       " '@piqueturlog.com.br',\n",
       " '@supertubos.net.br',\n",
       " '@outlook.de',\n",
       " '@smgrid.pl',\n",
       " '@simpleslocadora.com.br',\n",
       " '@outlook.com',\n",
       " '@icloud.com',\n",
       " '@live.com',\n",
       " '@mepsisistemica.com.br',\n",
       " '@live.co.uk',\n",
       " '@hotmail.co.uk',\n",
       " '@theresearchinsights.com',\n",
       " '@khorban.com',\n",
       " '@hotmail.fr',\n",
       " '@aol.com',\n",
       " '@ecovitaconstrutora.com.br',\n",
       " '@lansofnet.com.br',\n",
       " '@jafs.com.br',\n",
       " '@gsintegradora.com',\n",
       " '@fv.com.br',\n",
       " '@mailinspector.com.br']"
      ]
     },
     "execution_count": 126,
     "metadata": {},
     "output_type": "execute_result"
    }
   ],
   "source": [
    "error_list"
   ]
  }
 ],
 "metadata": {
  "kernelspec": {
   "display_name": "venv",
   "language": "python",
   "name": "python3"
  },
  "language_info": {
   "codemirror_mode": {
    "name": "ipython",
    "version": 3
   },
   "file_extension": ".py",
   "mimetype": "text/x-python",
   "name": "python",
   "nbconvert_exporter": "python",
   "pygments_lexer": "ipython3",
   "version": "3.10.4"
  },
  "orig_nbformat": 4
 },
 "nbformat": 4,
 "nbformat_minor": 2
}
